{
 "cells": [
  {
   "cell_type": "code",
   "execution_count": 1,
   "id": "722c6c33-3d67-46f1-bb99-71dcce8fa3c7",
   "metadata": {},
   "outputs": [],
   "source": [
    "import pandas as pd"
   ]
  },
  {
   "cell_type": "code",
   "execution_count": 2,
   "id": "84316c6f-52a1-4ece-982e-eeaaa7de4f65",
   "metadata": {},
   "outputs": [
    {
     "name": "stdout",
     "output_type": "stream",
     "text": [
      "Hello, World\n"
     ]
    }
   ],
   "source": [
    "print(\"Hello, World\")"
   ]
  },
  {
   "cell_type": "code",
   "execution_count": 1,
   "id": "0a6cea49-ef74-47dd-830e-7eabeddad304",
   "metadata": {},
   "outputs": [
    {
     "name": "stdout",
     "output_type": "stream",
     "text": [
      "hello\n"
     ]
    }
   ],
   "source": [
    "print(\"hello\")"
   ]
  },
  {
   "cell_type": "code",
   "execution_count": 2,
   "id": "7e6c0a91-2d72-414b-8e1c-1cfb8c7080d4",
   "metadata": {},
   "outputs": [
    {
     "name": "stdout",
     "output_type": "stream",
     "text": [
      "Hello\n"
     ]
    }
   ],
   "source": [
    "print(\"Hello\")"
   ]
  },
  {
   "cell_type": "code",
   "execution_count": 1,
   "id": "8ef0dd97-6a75-4f44-b232-004706ef36d1",
   "metadata": {},
   "outputs": [
    {
     "name": "stdout",
     "output_type": "stream",
     "text": [
      "Test\n"
     ]
    }
   ],
   "source": [
    "print(\"Test\")"
   ]
  },
  {
   "cell_type": "code",
   "execution_count": 2,
   "id": "d22f91ea-61d3-41ee-835a-f9dc8c9d5001",
   "metadata": {},
   "outputs": [
    {
     "name": "stdout",
     "output_type": "stream",
     "text": [
      "there\n"
     ]
    }
   ],
   "source": [
    "print(\"there\")"
   ]
  },
  {
   "cell_type": "code",
   "execution_count": 1,
   "id": "c28e57c6-c206-401d-918d-7cd0214ea9d4",
   "metadata": {},
   "outputs": [
    {
     "name": "stdout",
     "output_type": "stream",
     "text": [
      "Coba lagi\n"
     ]
    }
   ],
   "source": [
    "print(\"Coba lagi\")"
   ]
  },
  {
   "cell_type": "code",
   "execution_count": 3,
   "id": "bec48843-30ca-4d96-8dce-85a6b592397a",
   "metadata": {},
   "outputs": [
    {
     "name": "stdout",
     "output_type": "stream",
     "text": [
      "Kok gabisa\n"
     ]
    }
   ],
   "source": [
    "print(\"Kok gabisa\")"
   ]
  },
  {
   "cell_type": "code",
   "execution_count": null,
   "id": "37883aaa-8044-41e2-9d0c-05fe597adec7",
   "metadata": {},
   "outputs": [],
   "source": []
  }
 ],
 "metadata": {
  "kernelspec": {
   "display_name": "Python 3 (ipykernel)",
   "language": "python",
   "name": "python3"
  },
  "language_info": {
   "codemirror_mode": {
    "name": "ipython",
    "version": 3
   },
   "file_extension": ".py",
   "mimetype": "text/x-python",
   "name": "python",
   "nbconvert_exporter": "python",
   "pygments_lexer": "ipython3",
   "version": "3.11.7"
  }
 },
 "nbformat": 4,
 "nbformat_minor": 5
}
