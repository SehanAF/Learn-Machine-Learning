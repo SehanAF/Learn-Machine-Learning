{
 "cells": [
  {
   "cell_type": "code",
   "execution_count": 1,
   "id": "7f6dc1d1-d35b-4584-9be5-54f94d1b498a",
   "metadata": {},
   "outputs": [],
   "source": [
    "import pandas as pd"
   ]
  },
  {
   "cell_type": "code",
   "execution_count": 34,
   "id": "1ec4422f-75d1-4e32-824d-d1cfcd738b52",
   "metadata": {},
   "outputs": [],
   "source": [
    "data_sensus = pd.read_csv(\"sensus.xlsx - Sheet1.csv\")"
   ]
  },
  {
   "cell_type": "code",
   "execution_count": 35,
   "id": "8fa99f96-a2e9-4568-aa38-bec10cff09cd",
   "metadata": {},
   "outputs": [
    {
     "data": {
      "text/html": [
       "<div>\n",
       "<style scoped>\n",
       "    .dataframe tbody tr th:only-of-type {\n",
       "        vertical-align: middle;\n",
       "    }\n",
       "\n",
       "    .dataframe tbody tr th {\n",
       "        vertical-align: top;\n",
       "    }\n",
       "\n",
       "    .dataframe thead th {\n",
       "        text-align: right;\n",
       "    }\n",
       "</style>\n",
       "<table border=\"1\" class=\"dataframe\">\n",
       "  <thead>\n",
       "    <tr style=\"text-align: right;\">\n",
       "      <th></th>\n",
       "      <th>NO</th>\n",
       "      <th>NAMA</th>\n",
       "      <th>JENIS\\rKELAMIN</th>\n",
       "      <th>USIA</th>\n",
       "      <th>DESA/KELURAHAN</th>\n",
       "      <th>RT</th>\n",
       "      <th>RW</th>\n",
       "      <th>KET.</th>\n",
       "    </tr>\n",
       "  </thead>\n",
       "  <tbody>\n",
       "    <tr>\n",
       "      <th>0</th>\n",
       "      <td>1.0</td>\n",
       "      <td>AI ROSTINI</td>\n",
       "      <td>P</td>\n",
       "      <td>46.0</td>\n",
       "      <td>CIMERANG</td>\n",
       "      <td>2.0</td>\n",
       "      <td>5.0</td>\n",
       "      <td>NaN</td>\n",
       "    </tr>\n",
       "    <tr>\n",
       "      <th>1</th>\n",
       "      <td>2.0</td>\n",
       "      <td>AISAH</td>\n",
       "      <td>P</td>\n",
       "      <td>45.0</td>\n",
       "      <td>CIMERANG</td>\n",
       "      <td>2.0</td>\n",
       "      <td>5.0</td>\n",
       "      <td>NaN</td>\n",
       "    </tr>\n",
       "    <tr>\n",
       "      <th>2</th>\n",
       "      <td>3.0</td>\n",
       "      <td>ALDI NURYADI</td>\n",
       "      <td>L</td>\n",
       "      <td>23.0</td>\n",
       "      <td>CIMERANG</td>\n",
       "      <td>1.0</td>\n",
       "      <td>5.0</td>\n",
       "      <td>NaN</td>\n",
       "    </tr>\n",
       "    <tr>\n",
       "      <th>3</th>\n",
       "      <td>4.0</td>\n",
       "      <td>ALIYUDIN</td>\n",
       "      <td>L</td>\n",
       "      <td>66.0</td>\n",
       "      <td>CIMERANG</td>\n",
       "      <td>1.0</td>\n",
       "      <td>5.0</td>\n",
       "      <td>NaN</td>\n",
       "    </tr>\n",
       "    <tr>\n",
       "      <th>4</th>\n",
       "      <td>5.0</td>\n",
       "      <td>AMAN</td>\n",
       "      <td>L</td>\n",
       "      <td>51.0</td>\n",
       "      <td>CIMERANG</td>\n",
       "      <td>2.0</td>\n",
       "      <td>5.0</td>\n",
       "      <td>NaN</td>\n",
       "    </tr>\n",
       "    <tr>\n",
       "      <th>...</th>\n",
       "      <td>...</td>\n",
       "      <td>...</td>\n",
       "      <td>...</td>\n",
       "      <td>...</td>\n",
       "      <td>...</td>\n",
       "      <td>...</td>\n",
       "      <td>...</td>\n",
       "      <td>...</td>\n",
       "    </tr>\n",
       "    <tr>\n",
       "      <th>2542</th>\n",
       "      <td>NaN</td>\n",
       "      <td>YULI DAMAYANTI</td>\n",
       "      <td>P</td>\n",
       "      <td>38.0</td>\n",
       "      <td>CIMERANG</td>\n",
       "      <td>4.0</td>\n",
       "      <td>6.0</td>\n",
       "      <td>NaN</td>\n",
       "    </tr>\n",
       "    <tr>\n",
       "      <th>2543</th>\n",
       "      <td>NaN</td>\n",
       "      <td>YULIYANTI</td>\n",
       "      <td>P</td>\n",
       "      <td>41.0</td>\n",
       "      <td>CIMERANG</td>\n",
       "      <td>4.0</td>\n",
       "      <td>4.0</td>\n",
       "      <td>NaN</td>\n",
       "    </tr>\n",
       "    <tr>\n",
       "      <th>2544</th>\n",
       "      <td>NaN</td>\n",
       "      <td>YUSI SANTI ANGGRAENI</td>\n",
       "      <td>P</td>\n",
       "      <td>30.0</td>\n",
       "      <td>CIMERANG</td>\n",
       "      <td>2.0</td>\n",
       "      <td>4.0</td>\n",
       "      <td>NaN</td>\n",
       "    </tr>\n",
       "    <tr>\n",
       "      <th>2545</th>\n",
       "      <td>NaN</td>\n",
       "      <td>YUYUN YUNIATI</td>\n",
       "      <td>P</td>\n",
       "      <td>41.0</td>\n",
       "      <td>CIMERANG</td>\n",
       "      <td>4.0</td>\n",
       "      <td>6.0</td>\n",
       "      <td>NaN</td>\n",
       "    </tr>\n",
       "    <tr>\n",
       "      <th>2546</th>\n",
       "      <td>NaN</td>\n",
       "      <td>ZAENUDIN</td>\n",
       "      <td>L</td>\n",
       "      <td>39.0</td>\n",
       "      <td>CIMERANG</td>\n",
       "      <td>4.0</td>\n",
       "      <td>4.0</td>\n",
       "      <td>NaN</td>\n",
       "    </tr>\n",
       "  </tbody>\n",
       "</table>\n",
       "<p>2547 rows × 8 columns</p>\n",
       "</div>"
      ],
      "text/plain": [
       "       NO                  NAMA JENIS\\rKELAMIN  USIA DESA/KELURAHAN   RT   RW  \\\n",
       "0     1.0            AI ROSTINI              P  46.0       CIMERANG  2.0  5.0   \n",
       "1     2.0                 AISAH              P  45.0       CIMERANG  2.0  5.0   \n",
       "2     3.0          ALDI NURYADI              L  23.0       CIMERANG  1.0  5.0   \n",
       "3     4.0              ALIYUDIN              L  66.0       CIMERANG  1.0  5.0   \n",
       "4     5.0                  AMAN              L  51.0       CIMERANG  2.0  5.0   \n",
       "...   ...                   ...            ...   ...            ...  ...  ...   \n",
       "2542  NaN        YULI DAMAYANTI              P  38.0       CIMERANG  4.0  6.0   \n",
       "2543  NaN             YULIYANTI              P  41.0       CIMERANG  4.0  4.0   \n",
       "2544  NaN  YUSI SANTI ANGGRAENI              P  30.0       CIMERANG  2.0  4.0   \n",
       "2545  NaN         YUYUN YUNIATI              P  41.0       CIMERANG  4.0  6.0   \n",
       "2546  NaN              ZAENUDIN              L  39.0       CIMERANG  4.0  4.0   \n",
       "\n",
       "     KET.  \n",
       "0     NaN  \n",
       "1     NaN  \n",
       "2     NaN  \n",
       "3     NaN  \n",
       "4     NaN  \n",
       "...   ...  \n",
       "2542  NaN  \n",
       "2543  NaN  \n",
       "2544  NaN  \n",
       "2545  NaN  \n",
       "2546  NaN  \n",
       "\n",
       "[2547 rows x 8 columns]"
      ]
     },
     "execution_count": 35,
     "metadata": {},
     "output_type": "execute_result"
    }
   ],
   "source": [
    "data_sensus"
   ]
  },
  {
   "cell_type": "code",
   "execution_count": 45,
   "id": "9076cb90-786e-41b8-a4ee-b471a8cf6ebe",
   "metadata": {},
   "outputs": [
    {
     "data": {
      "text/plain": [
       "NO                 736\n",
       "NAMA              1274\n",
       "JENIS\\rKELAMIN    1274\n",
       "USIA              1274\n",
       "DESA/KELURAHAN    1274\n",
       "RT                1274\n",
       "RW                1274\n",
       "KET.                 9\n",
       "dtype: int64"
      ]
     },
     "execution_count": 45,
     "metadata": {},
     "output_type": "execute_result"
    }
   ],
   "source": [
    "# Jumlah Perempuan ada: 1274 Perempuan\n",
    "data_sensus.loc[data_sensus[\"JENIS\\rKELAMIN\"] == \"P\"].count() # or .shape"
   ]
  },
  {
   "cell_type": "code",
   "execution_count": 50,
   "id": "cb51a437-5d50-44d3-bb0c-ab573174d37e",
   "metadata": {},
   "outputs": [
    {
     "data": {
      "text/plain": [
       "(1274, 8)"
      ]
     },
     "execution_count": 50,
     "metadata": {},
     "output_type": "execute_result"
    }
   ],
   "source": [
    "# Jumlah Perempuan ada: 1274 Perempuan\n",
    "data_sensus.loc[data_sensus[\"JENIS\\rKELAMIN\"] == \"P\"].shape # or .count()"
   ]
  },
  {
   "cell_type": "code",
   "execution_count": 39,
   "id": "5b0f4c2a-d193-4a4c-8814-5922154561a8",
   "metadata": {},
   "outputs": [
    {
     "data": {
      "text/plain": [
       "NO                 750\n",
       "NAMA              1270\n",
       "JENIS\\rKELAMIN    1270\n",
       "USIA              1270\n",
       "DESA/KELURAHAN    1270\n",
       "RT                1270\n",
       "RW                1270\n",
       "KET.                 3\n",
       "dtype: int64"
      ]
     },
     "execution_count": 39,
     "metadata": {},
     "output_type": "execute_result"
    }
   ],
   "source": [
    "# Jumlah Laki-laki ada: 1270\n",
    "data_sensus.loc[data_sensus[\"JENIS\\rKELAMIN\"] == \"L\"].count()"
   ]
  },
  {
   "cell_type": "code",
   "execution_count": 41,
   "id": "04368866-e13c-4374-848e-0355bc48c91b",
   "metadata": {},
   "outputs": [
    {
     "data": {
      "text/plain": [
       "NO                1487\n",
       "NAMA              2545\n",
       "JENIS\\rKELAMIN    2545\n",
       "USIA              2545\n",
       "DESA/KELURAHAN    2545\n",
       "RT                2545\n",
       "RW                2545\n",
       "KET.                12\n",
       "dtype: int64"
      ]
     },
     "execution_count": 41,
     "metadata": {},
     "output_type": "execute_result"
    }
   ],
   "source": [
    "data_sensus.count()"
   ]
  },
  {
   "cell_type": "code",
   "execution_count": 44,
   "id": "e0c2aa66-b8e5-4ef1-9f44-97e9ec3ccc46",
   "metadata": {},
   "outputs": [
    {
     "data": {
      "text/html": [
       "<div>\n",
       "<style scoped>\n",
       "    .dataframe tbody tr th:only-of-type {\n",
       "        vertical-align: middle;\n",
       "    }\n",
       "\n",
       "    .dataframe tbody tr th {\n",
       "        vertical-align: top;\n",
       "    }\n",
       "\n",
       "    .dataframe thead th {\n",
       "        text-align: right;\n",
       "    }\n",
       "</style>\n",
       "<table border=\"1\" class=\"dataframe\">\n",
       "  <thead>\n",
       "    <tr style=\"text-align: right;\">\n",
       "      <th></th>\n",
       "      <th>NO</th>\n",
       "      <th>NAMA</th>\n",
       "      <th>JENIS\\rKELAMIN</th>\n",
       "      <th>USIA</th>\n",
       "      <th>DESA/KELURAHAN</th>\n",
       "      <th>RT</th>\n",
       "      <th>RW</th>\n",
       "      <th>KET.</th>\n",
       "    </tr>\n",
       "  </thead>\n",
       "  <tbody>\n",
       "    <tr>\n",
       "      <th>3</th>\n",
       "      <td>4.0</td>\n",
       "      <td>ALIYUDIN</td>\n",
       "      <td>L</td>\n",
       "      <td>66.0</td>\n",
       "      <td>CIMERANG</td>\n",
       "      <td>1.0</td>\n",
       "      <td>5.0</td>\n",
       "      <td>NaN</td>\n",
       "    </tr>\n",
       "    <tr>\n",
       "      <th>4</th>\n",
       "      <td>5.0</td>\n",
       "      <td>AMAN</td>\n",
       "      <td>L</td>\n",
       "      <td>51.0</td>\n",
       "      <td>CIMERANG</td>\n",
       "      <td>2.0</td>\n",
       "      <td>5.0</td>\n",
       "      <td>NaN</td>\n",
       "    </tr>\n",
       "    <tr>\n",
       "      <th>8</th>\n",
       "      <td>9.0</td>\n",
       "      <td>ANUNG</td>\n",
       "      <td>P</td>\n",
       "      <td>68.0</td>\n",
       "      <td>CIMERANG</td>\n",
       "      <td>1.0</td>\n",
       "      <td>5.0</td>\n",
       "      <td>NaN</td>\n",
       "    </tr>\n",
       "    <tr>\n",
       "      <th>9</th>\n",
       "      <td>10.0</td>\n",
       "      <td>ANWAR</td>\n",
       "      <td>L</td>\n",
       "      <td>73.0</td>\n",
       "      <td>CIMERANG</td>\n",
       "      <td>1.0</td>\n",
       "      <td>5.0</td>\n",
       "      <td>NaN</td>\n",
       "    </tr>\n",
       "    <tr>\n",
       "      <th>13</th>\n",
       "      <td>14.0</td>\n",
       "      <td>ASEP BAHTIAR</td>\n",
       "      <td>L</td>\n",
       "      <td>56.0</td>\n",
       "      <td>CIMERANG</td>\n",
       "      <td>1.0</td>\n",
       "      <td>5.0</td>\n",
       "      <td>NaN</td>\n",
       "    </tr>\n",
       "    <tr>\n",
       "      <th>...</th>\n",
       "      <td>...</td>\n",
       "      <td>...</td>\n",
       "      <td>...</td>\n",
       "      <td>...</td>\n",
       "      <td>...</td>\n",
       "      <td>...</td>\n",
       "      <td>...</td>\n",
       "      <td>...</td>\n",
       "    </tr>\n",
       "    <tr>\n",
       "      <th>2530</th>\n",
       "      <td>NaN</td>\n",
       "      <td>UU</td>\n",
       "      <td>P</td>\n",
       "      <td>63.0</td>\n",
       "      <td>CIMERANG</td>\n",
       "      <td>2.0</td>\n",
       "      <td>4.0</td>\n",
       "      <td>NaN</td>\n",
       "    </tr>\n",
       "    <tr>\n",
       "      <th>2531</th>\n",
       "      <td>NaN</td>\n",
       "      <td>UUS</td>\n",
       "      <td>L</td>\n",
       "      <td>55.0</td>\n",
       "      <td>CIMERANG</td>\n",
       "      <td>2.0</td>\n",
       "      <td>4.0</td>\n",
       "      <td>NaN</td>\n",
       "    </tr>\n",
       "    <tr>\n",
       "      <th>2532</th>\n",
       "      <td>NaN</td>\n",
       "      <td>WAWAN</td>\n",
       "      <td>L</td>\n",
       "      <td>52.0</td>\n",
       "      <td>CIMERANG</td>\n",
       "      <td>4.0</td>\n",
       "      <td>6.0</td>\n",
       "      <td>NaN</td>\n",
       "    </tr>\n",
       "    <tr>\n",
       "      <th>2533</th>\n",
       "      <td>NaN</td>\n",
       "      <td>WIWI</td>\n",
       "      <td>P</td>\n",
       "      <td>78.0</td>\n",
       "      <td>CIMERANG</td>\n",
       "      <td>4.0</td>\n",
       "      <td>6.0</td>\n",
       "      <td>NaN</td>\n",
       "    </tr>\n",
       "    <tr>\n",
       "      <th>2534</th>\n",
       "      <td>NaN</td>\n",
       "      <td>Y A D I</td>\n",
       "      <td>L</td>\n",
       "      <td>51.0</td>\n",
       "      <td>CIMERANG</td>\n",
       "      <td>4.0</td>\n",
       "      <td>4.0</td>\n",
       "      <td>NaN</td>\n",
       "    </tr>\n",
       "  </tbody>\n",
       "</table>\n",
       "<p>763 rows × 8 columns</p>\n",
       "</div>"
      ],
      "text/plain": [
       "        NO          NAMA JENIS\\rKELAMIN  USIA DESA/KELURAHAN   RT   RW KET.\n",
       "3      4.0      ALIYUDIN              L  66.0       CIMERANG  1.0  5.0  NaN\n",
       "4      5.0          AMAN              L  51.0       CIMERANG  2.0  5.0  NaN\n",
       "8      9.0         ANUNG              P  68.0       CIMERANG  1.0  5.0  NaN\n",
       "9     10.0         ANWAR              L  73.0       CIMERANG  1.0  5.0  NaN\n",
       "13    14.0  ASEP BAHTIAR              L  56.0       CIMERANG  1.0  5.0  NaN\n",
       "...    ...           ...            ...   ...            ...  ...  ...  ...\n",
       "2530   NaN            UU              P  63.0       CIMERANG  2.0  4.0  NaN\n",
       "2531   NaN           UUS              L  55.0       CIMERANG  2.0  4.0  NaN\n",
       "2532   NaN         WAWAN              L  52.0       CIMERANG  4.0  6.0  NaN\n",
       "2533   NaN          WIWI              P  78.0       CIMERANG  4.0  6.0  NaN\n",
       "2534   NaN       Y A D I              L  51.0       CIMERANG  4.0  4.0  NaN\n",
       "\n",
       "[763 rows x 8 columns]"
      ]
     },
     "execution_count": 44,
     "metadata": {},
     "output_type": "execute_result"
    }
   ],
   "source": [
    "# ini adalah umur lebih dari 50.\n",
    "data_sensus[(data_sensus['USIA'] > 50 )] "
   ]
  },
  {
   "cell_type": "code",
   "execution_count": 54,
   "id": "eea0554e-fad8-4ee7-ab41-3f07110d7e1b",
   "metadata": {},
   "outputs": [
    {
     "data": {
      "text/plain": [
       "NO                 5\n",
       "NAMA              11\n",
       "JENIS\\rKELAMIN    11\n",
       "USIA              11\n",
       "DESA/KELURAHAN    11\n",
       "RT                11\n",
       "RW                11\n",
       "KET.              11\n",
       "dtype: int64"
      ]
     },
     "execution_count": 54,
     "metadata": {},
     "output_type": "execute_result"
    }
   ],
   "source": [
    "# Yang pindah adalah 11 Orang\n",
    "data_sensus.loc[data_sensus[\"KET.\"] == \"pindah memilih\"].count() # or .shape"
   ]
  },
  {
   "cell_type": "code",
   "execution_count": 55,
   "id": "1da69995-edb6-4557-aeaa-785941d92217",
   "metadata": {},
   "outputs": [
    {
     "data": {
      "text/plain": [
       "(11, 8)"
      ]
     },
     "execution_count": 55,
     "metadata": {},
     "output_type": "execute_result"
    }
   ],
   "source": [
    "# Yang pindah adalah 11 Orang\n",
    "data_sensus.loc[data_sensus[\"KET.\"] == \"pindah memilih\"].shape # or .shape"
   ]
  },
  {
   "cell_type": "code",
   "execution_count": null,
   "id": "ee15ac4d-8cb2-4cef-b34a-7d9e84e2c5fb",
   "metadata": {},
   "outputs": [],
   "source": []
  }
 ],
 "metadata": {
  "kernelspec": {
   "display_name": "Python 3 (ipykernel)",
   "language": "python",
   "name": "python3"
  },
  "language_info": {
   "codemirror_mode": {
    "name": "ipython",
    "version": 3
   },
   "file_extension": ".py",
   "mimetype": "text/x-python",
   "name": "python",
   "nbconvert_exporter": "python",
   "pygments_lexer": "ipython3",
   "version": "3.11.7"
  }
 },
 "nbformat": 4,
 "nbformat_minor": 5
}
