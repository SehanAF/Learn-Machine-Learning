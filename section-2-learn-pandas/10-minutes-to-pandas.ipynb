{
 "cells": [
  {
   "cell_type": "code",
   "execution_count": 1,
   "id": "20bff8da-d548-4927-84c1-fbe1ab406df6",
   "metadata": {},
   "outputs": [],
   "source": [
    "import numpy as np\n",
    "import pandas as pd"
   ]
  },
  {
   "cell_type": "markdown",
   "id": "1a7eec19-68c2-4856-a19c-c25d3ae91100",
   "metadata": {},
   "source": [
    "## Basic data structures in pandas\n",
    "\n",
    "- Series: a one-dimensional labeled array holding data of any type\r\n",
    "such as integers, strings, Python objects etc\n",
    "\n",
    "- DataFrame: a two-dimensional data structure that holds data like a two-dimension array or a table with rows and columns..ns."
   ]
  },
  {
   "cell_type": "code",
   "execution_count": 2,
   "id": "4f4c97b9-26e5-494a-ad64-3327425b405c",
   "metadata": {},
   "outputs": [
    {
     "data": {
      "text/plain": [
       "0    1.0\n",
       "1    3.0\n",
       "2    5.0\n",
       "3    NaN\n",
       "4    6.0\n",
       "5    8.0\n",
       "dtype: float64"
      ]
     },
     "execution_count": 2,
     "metadata": {},
     "output_type": "execute_result"
    }
   ],
   "source": [
    "s = pd.Series([1,3,5, np.nan, 6, 8])\n",
    "s"
   ]
  },
  {
   "cell_type": "code",
   "execution_count": 3,
   "id": "b0a6aba3-fb0e-4a66-8e35-96d19ba0d2dc",
   "metadata": {},
   "outputs": [
    {
     "data": {
      "text/plain": [
       "DatetimeIndex(['2013-01-01', '2013-01-02', '2013-01-03', '2013-01-04',\n",
       "               '2013-01-05', '2013-01-06'],\n",
       "              dtype='datetime64[ns]', freq='D')"
      ]
     },
     "execution_count": 3,
     "metadata": {},
     "output_type": "execute_result"
    }
   ],
   "source": [
    "# Creating a DataFrame by passing a NumPy array with a datetime index using date_range() and labeled columns:\n",
    "dates = pd.date_range(\"20130101\", periods=6)\n",
    "dates"
   ]
  },
  {
   "cell_type": "code",
   "execution_count": 4,
   "id": "323bd63a-4aa2-48e1-a7e4-3598a20e71e5",
   "metadata": {},
   "outputs": [
    {
     "data": {
      "text/html": [
       "<div>\n",
       "<style scoped>\n",
       "    .dataframe tbody tr th:only-of-type {\n",
       "        vertical-align: middle;\n",
       "    }\n",
       "\n",
       "    .dataframe tbody tr th {\n",
       "        vertical-align: top;\n",
       "    }\n",
       "\n",
       "    .dataframe thead th {\n",
       "        text-align: right;\n",
       "    }\n",
       "</style>\n",
       "<table border=\"1\" class=\"dataframe\">\n",
       "  <thead>\n",
       "    <tr style=\"text-align: right;\">\n",
       "      <th></th>\n",
       "      <th>A</th>\n",
       "      <th>B</th>\n",
       "      <th>C</th>\n",
       "      <th>D</th>\n",
       "    </tr>\n",
       "  </thead>\n",
       "  <tbody>\n",
       "    <tr>\n",
       "      <th>2013-01-01</th>\n",
       "      <td>0.545794</td>\n",
       "      <td>0.517737</td>\n",
       "      <td>-0.310385</td>\n",
       "      <td>-0.378463</td>\n",
       "    </tr>\n",
       "    <tr>\n",
       "      <th>2013-01-02</th>\n",
       "      <td>-0.726781</td>\n",
       "      <td>0.466654</td>\n",
       "      <td>-0.750876</td>\n",
       "      <td>0.570763</td>\n",
       "    </tr>\n",
       "    <tr>\n",
       "      <th>2013-01-03</th>\n",
       "      <td>0.192811</td>\n",
       "      <td>-1.622321</td>\n",
       "      <td>0.975008</td>\n",
       "      <td>0.671184</td>\n",
       "    </tr>\n",
       "    <tr>\n",
       "      <th>2013-01-04</th>\n",
       "      <td>-1.004398</td>\n",
       "      <td>-0.776126</td>\n",
       "      <td>-1.707817</td>\n",
       "      <td>-1.162016</td>\n",
       "    </tr>\n",
       "    <tr>\n",
       "      <th>2013-01-05</th>\n",
       "      <td>-0.586459</td>\n",
       "      <td>-0.177316</td>\n",
       "      <td>-0.951355</td>\n",
       "      <td>-0.500664</td>\n",
       "    </tr>\n",
       "    <tr>\n",
       "      <th>2013-01-06</th>\n",
       "      <td>1.234784</td>\n",
       "      <td>-0.127779</td>\n",
       "      <td>-0.817377</td>\n",
       "      <td>-1.390276</td>\n",
       "    </tr>\n",
       "  </tbody>\n",
       "</table>\n",
       "</div>"
      ],
      "text/plain": [
       "                   A         B         C         D\n",
       "2013-01-01  0.545794  0.517737 -0.310385 -0.378463\n",
       "2013-01-02 -0.726781  0.466654 -0.750876  0.570763\n",
       "2013-01-03  0.192811 -1.622321  0.975008  0.671184\n",
       "2013-01-04 -1.004398 -0.776126 -1.707817 -1.162016\n",
       "2013-01-05 -0.586459 -0.177316 -0.951355 -0.500664\n",
       "2013-01-06  1.234784 -0.127779 -0.817377 -1.390276"
      ]
     },
     "execution_count": 4,
     "metadata": {},
     "output_type": "execute_result"
    }
   ],
   "source": [
    "df = pd.DataFrame(np.random.randn(6, 4), index=dates, columns=list(\"ABCD\"))\n",
    "df"
   ]
  },
  {
   "cell_type": "code",
   "execution_count": 5,
   "id": "e39f088c-b807-42d1-9867-e28c2b44cf08",
   "metadata": {},
   "outputs": [
    {
     "data": {
      "text/html": [
       "<div>\n",
       "<style scoped>\n",
       "    .dataframe tbody tr th:only-of-type {\n",
       "        vertical-align: middle;\n",
       "    }\n",
       "\n",
       "    .dataframe tbody tr th {\n",
       "        vertical-align: top;\n",
       "    }\n",
       "\n",
       "    .dataframe thead th {\n",
       "        text-align: right;\n",
       "    }\n",
       "</style>\n",
       "<table border=\"1\" class=\"dataframe\">\n",
       "  <thead>\n",
       "    <tr style=\"text-align: right;\">\n",
       "      <th></th>\n",
       "      <th>A</th>\n",
       "      <th>B</th>\n",
       "      <th>C</th>\n",
       "      <th>D</th>\n",
       "      <th>E</th>\n",
       "      <th>F</th>\n",
       "    </tr>\n",
       "  </thead>\n",
       "  <tbody>\n",
       "    <tr>\n",
       "      <th>0</th>\n",
       "      <td>1.0</td>\n",
       "      <td>2013-01-02</td>\n",
       "      <td>1.0</td>\n",
       "      <td>3</td>\n",
       "      <td>test</td>\n",
       "      <td>foo</td>\n",
       "    </tr>\n",
       "    <tr>\n",
       "      <th>1</th>\n",
       "      <td>1.0</td>\n",
       "      <td>2013-01-02</td>\n",
       "      <td>1.0</td>\n",
       "      <td>3</td>\n",
       "      <td>train</td>\n",
       "      <td>foo</td>\n",
       "    </tr>\n",
       "    <tr>\n",
       "      <th>2</th>\n",
       "      <td>1.0</td>\n",
       "      <td>2013-01-02</td>\n",
       "      <td>1.0</td>\n",
       "      <td>3</td>\n",
       "      <td>test</td>\n",
       "      <td>foo</td>\n",
       "    </tr>\n",
       "    <tr>\n",
       "      <th>3</th>\n",
       "      <td>1.0</td>\n",
       "      <td>2013-01-02</td>\n",
       "      <td>1.0</td>\n",
       "      <td>3</td>\n",
       "      <td>train</td>\n",
       "      <td>foo</td>\n",
       "    </tr>\n",
       "  </tbody>\n",
       "</table>\n",
       "</div>"
      ],
      "text/plain": [
       "     A          B    C  D      E    F\n",
       "0  1.0 2013-01-02  1.0  3   test  foo\n",
       "1  1.0 2013-01-02  1.0  3  train  foo\n",
       "2  1.0 2013-01-02  1.0  3   test  foo\n",
       "3  1.0 2013-01-02  1.0  3  train  foo"
      ]
     },
     "execution_count": 5,
     "metadata": {},
     "output_type": "execute_result"
    }
   ],
   "source": [
    "# Creating a DataFrame by passing a dictionary of objects where the keys are the column labels and the values are the column values.\n",
    "df2 = pd.DataFrame({\n",
    "    \"A\": 1.0,\n",
    "    \"B\": pd.Timestamp(\"20130102\"),\n",
    "    \"C\": pd.Series(1, index=list(range(4)), dtype=\"float32\"),\n",
    "    \"D\": np.array([3] * 4, dtype=\"int32\"),\n",
    "    \"E\": pd.Categorical([\"test\", \"train\", \"test\", \"train\"]),\n",
    "    \"F\": \"foo\",\n",
    "    }\n",
    ")\n",
    "df2"
   ]
  },
  {
   "cell_type": "code",
   "execution_count": 6,
   "id": "bd8b05e7-ff76-400c-8b4d-f097dc5742fe",
   "metadata": {},
   "outputs": [
    {
     "data": {
      "text/plain": [
       "A          float64\n",
       "B    datetime64[s]\n",
       "C          float32\n",
       "D            int32\n",
       "E         category\n",
       "F           object\n",
       "dtype: object"
      ]
     },
     "execution_count": 6,
     "metadata": {},
     "output_type": "execute_result"
    }
   ],
   "source": [
    "df2.dtypes"
   ]
  },
  {
   "cell_type": "markdown",
   "id": "e8182baf-85e3-49b1-88f0-56ea08ecb279",
   "metadata": {},
   "source": [
    "# Viewing data\n",
    "\n",
    "Use DataFrame.head() and DataFrame.tail() to view the top and bottom rows of the frame respectively:\r",
    "df"
   ]
  },
  {
   "cell_type": "code",
   "execution_count": 7,
   "id": "0e467f74-c226-4fc5-94bb-409deb182ea4",
   "metadata": {},
   "outputs": [
    {
     "data": {
      "text/html": [
       "<div>\n",
       "<style scoped>\n",
       "    .dataframe tbody tr th:only-of-type {\n",
       "        vertical-align: middle;\n",
       "    }\n",
       "\n",
       "    .dataframe tbody tr th {\n",
       "        vertical-align: top;\n",
       "    }\n",
       "\n",
       "    .dataframe thead th {\n",
       "        text-align: right;\n",
       "    }\n",
       "</style>\n",
       "<table border=\"1\" class=\"dataframe\">\n",
       "  <thead>\n",
       "    <tr style=\"text-align: right;\">\n",
       "      <th></th>\n",
       "      <th>A</th>\n",
       "      <th>B</th>\n",
       "      <th>C</th>\n",
       "      <th>D</th>\n",
       "    </tr>\n",
       "  </thead>\n",
       "  <tbody>\n",
       "    <tr>\n",
       "      <th>2013-01-01</th>\n",
       "      <td>0.545794</td>\n",
       "      <td>0.517737</td>\n",
       "      <td>-0.310385</td>\n",
       "      <td>-0.378463</td>\n",
       "    </tr>\n",
       "    <tr>\n",
       "      <th>2013-01-02</th>\n",
       "      <td>-0.726781</td>\n",
       "      <td>0.466654</td>\n",
       "      <td>-0.750876</td>\n",
       "      <td>0.570763</td>\n",
       "    </tr>\n",
       "    <tr>\n",
       "      <th>2013-01-03</th>\n",
       "      <td>0.192811</td>\n",
       "      <td>-1.622321</td>\n",
       "      <td>0.975008</td>\n",
       "      <td>0.671184</td>\n",
       "    </tr>\n",
       "    <tr>\n",
       "      <th>2013-01-04</th>\n",
       "      <td>-1.004398</td>\n",
       "      <td>-0.776126</td>\n",
       "      <td>-1.707817</td>\n",
       "      <td>-1.162016</td>\n",
       "    </tr>\n",
       "    <tr>\n",
       "      <th>2013-01-05</th>\n",
       "      <td>-0.586459</td>\n",
       "      <td>-0.177316</td>\n",
       "      <td>-0.951355</td>\n",
       "      <td>-0.500664</td>\n",
       "    </tr>\n",
       "  </tbody>\n",
       "</table>\n",
       "</div>"
      ],
      "text/plain": [
       "                   A         B         C         D\n",
       "2013-01-01  0.545794  0.517737 -0.310385 -0.378463\n",
       "2013-01-02 -0.726781  0.466654 -0.750876  0.570763\n",
       "2013-01-03  0.192811 -1.622321  0.975008  0.671184\n",
       "2013-01-04 -1.004398 -0.776126 -1.707817 -1.162016\n",
       "2013-01-05 -0.586459 -0.177316 -0.951355 -0.500664"
      ]
     },
     "execution_count": 7,
     "metadata": {},
     "output_type": "execute_result"
    }
   ],
   "source": [
    "df.head()"
   ]
  },
  {
   "cell_type": "code",
   "execution_count": 8,
   "id": "d271b258-a660-4270-9b12-d7c28d9bfdfe",
   "metadata": {},
   "outputs": [
    {
     "data": {
      "text/html": [
       "<div>\n",
       "<style scoped>\n",
       "    .dataframe tbody tr th:only-of-type {\n",
       "        vertical-align: middle;\n",
       "    }\n",
       "\n",
       "    .dataframe tbody tr th {\n",
       "        vertical-align: top;\n",
       "    }\n",
       "\n",
       "    .dataframe thead th {\n",
       "        text-align: right;\n",
       "    }\n",
       "</style>\n",
       "<table border=\"1\" class=\"dataframe\">\n",
       "  <thead>\n",
       "    <tr style=\"text-align: right;\">\n",
       "      <th></th>\n",
       "      <th>A</th>\n",
       "      <th>B</th>\n",
       "      <th>C</th>\n",
       "      <th>D</th>\n",
       "    </tr>\n",
       "  </thead>\n",
       "  <tbody>\n",
       "    <tr>\n",
       "      <th>2013-01-04</th>\n",
       "      <td>-1.004398</td>\n",
       "      <td>-0.776126</td>\n",
       "      <td>-1.707817</td>\n",
       "      <td>-1.162016</td>\n",
       "    </tr>\n",
       "    <tr>\n",
       "      <th>2013-01-05</th>\n",
       "      <td>-0.586459</td>\n",
       "      <td>-0.177316</td>\n",
       "      <td>-0.951355</td>\n",
       "      <td>-0.500664</td>\n",
       "    </tr>\n",
       "    <tr>\n",
       "      <th>2013-01-06</th>\n",
       "      <td>1.234784</td>\n",
       "      <td>-0.127779</td>\n",
       "      <td>-0.817377</td>\n",
       "      <td>-1.390276</td>\n",
       "    </tr>\n",
       "  </tbody>\n",
       "</table>\n",
       "</div>"
      ],
      "text/plain": [
       "                   A         B         C         D\n",
       "2013-01-04 -1.004398 -0.776126 -1.707817 -1.162016\n",
       "2013-01-05 -0.586459 -0.177316 -0.951355 -0.500664\n",
       "2013-01-06  1.234784 -0.127779 -0.817377 -1.390276"
      ]
     },
     "execution_count": 8,
     "metadata": {},
     "output_type": "execute_result"
    }
   ],
   "source": [
    "df.tail(3)"
   ]
  },
  {
   "cell_type": "code",
   "execution_count": 9,
   "id": "c9fffe1a-2201-46e1-b683-1bff4d91810f",
   "metadata": {},
   "outputs": [
    {
     "data": {
      "text/plain": [
       "DatetimeIndex(['2013-01-01', '2013-01-02', '2013-01-03', '2013-01-04',\n",
       "               '2013-01-05', '2013-01-06'],\n",
       "              dtype='datetime64[ns]', freq='D')"
      ]
     },
     "execution_count": 9,
     "metadata": {},
     "output_type": "execute_result"
    }
   ],
   "source": [
    "# Display the DataFrame.index or DataFrame.columns:\n",
    "df.index"
   ]
  },
  {
   "cell_type": "code",
   "execution_count": 10,
   "id": "f707e1a9-c7d4-4a1d-b8cc-34588de0d4a6",
   "metadata": {},
   "outputs": [
    {
     "data": {
      "text/plain": [
       "Index(['A', 'B', 'C', 'D'], dtype='object')"
      ]
     },
     "execution_count": 10,
     "metadata": {},
     "output_type": "execute_result"
    }
   ],
   "source": [
    "df.columns"
   ]
  },
  {
   "cell_type": "code",
   "execution_count": 11,
   "id": "80820852-587e-4293-93aa-16f0062f96d7",
   "metadata": {},
   "outputs": [
    {
     "data": {
      "text/plain": [
       "array([[ 0.54579437,  0.51773736, -0.31038481, -0.37846303],\n",
       "       [-0.72678083,  0.46665385, -0.75087636,  0.57076253],\n",
       "       [ 0.19281119, -1.62232078,  0.97500786,  0.67118372],\n",
       "       [-1.00439762, -0.77612555, -1.70781679, -1.16201639],\n",
       "       [-0.58645887, -0.17731554, -0.95135492, -0.50066438],\n",
       "       [ 1.23478402, -0.12777878, -0.81737665, -1.39027562]])"
      ]
     },
     "execution_count": 11,
     "metadata": {},
     "output_type": "execute_result"
    }
   ],
   "source": [
    "# Return a NumPy representation of the underlying data with DataFrame.to_numpy() without the index or column labels:\n",
    "df.to_numpy()"
   ]
  },
  {
   "cell_type": "markdown",
   "id": "2ce99bc5-a974-4a69-ba96-25ce896c0047",
   "metadata": {},
   "source": [
    "# Catatan\n",
    "Array NumPy memiliki satu dtype untuk seluruh array sedangkan pandas DataFrames memiliki satu dtype per kolom . Saat Anda memanggil DataFrame.to_numpy(), panda akan menemukan dtype NumPy yang dapat menampung semua dtype di DataFrame. Jika tipe data yang umum adalah object, DataFrame.to_numpy()akan memerlukan penyalinan data."
   ]
  },
  {
   "cell_type": "code",
   "execution_count": 12,
   "id": "6d2f644b-f4f3-4e29-870a-f7ef5183b729",
   "metadata": {},
   "outputs": [
    {
     "data": {
      "text/plain": [
       "A          float64\n",
       "B    datetime64[s]\n",
       "C          float32\n",
       "D            int32\n",
       "E         category\n",
       "F           object\n",
       "dtype: object"
      ]
     },
     "execution_count": 12,
     "metadata": {},
     "output_type": "execute_result"
    }
   ],
   "source": [
    "# contoh\n",
    "df2.dtypes"
   ]
  },
  {
   "cell_type": "code",
   "execution_count": 13,
   "id": "7e36f959-30f5-45d2-8f51-474f5ab73720",
   "metadata": {},
   "outputs": [
    {
     "data": {
      "text/plain": [
       "array([[1.0, Timestamp('2013-01-02 00:00:00'), 1.0, 3, 'test', 'foo'],\n",
       "       [1.0, Timestamp('2013-01-02 00:00:00'), 1.0, 3, 'train', 'foo'],\n",
       "       [1.0, Timestamp('2013-01-02 00:00:00'), 1.0, 3, 'test', 'foo'],\n",
       "       [1.0, Timestamp('2013-01-02 00:00:00'), 1.0, 3, 'train', 'foo']],\n",
       "      dtype=object)"
      ]
     },
     "execution_count": 13,
     "metadata": {},
     "output_type": "execute_result"
    }
   ],
   "source": [
    "# akan melakukan penyalinan data\n",
    "df2.to_numpy()"
   ]
  },
  {
   "cell_type": "code",
   "execution_count": 14,
   "id": "da3bb14c-5000-40b2-b3a0-4e4218c1b47e",
   "metadata": {},
   "outputs": [
    {
     "data": {
      "text/html": [
       "<div>\n",
       "<style scoped>\n",
       "    .dataframe tbody tr th:only-of-type {\n",
       "        vertical-align: middle;\n",
       "    }\n",
       "\n",
       "    .dataframe tbody tr th {\n",
       "        vertical-align: top;\n",
       "    }\n",
       "\n",
       "    .dataframe thead th {\n",
       "        text-align: right;\n",
       "    }\n",
       "</style>\n",
       "<table border=\"1\" class=\"dataframe\">\n",
       "  <thead>\n",
       "    <tr style=\"text-align: right;\">\n",
       "      <th></th>\n",
       "      <th>A</th>\n",
       "      <th>B</th>\n",
       "      <th>C</th>\n",
       "      <th>D</th>\n",
       "    </tr>\n",
       "  </thead>\n",
       "  <tbody>\n",
       "    <tr>\n",
       "      <th>count</th>\n",
       "      <td>6.000000</td>\n",
       "      <td>6.000000</td>\n",
       "      <td>6.000000</td>\n",
       "      <td>6.000000</td>\n",
       "    </tr>\n",
       "    <tr>\n",
       "      <th>mean</th>\n",
       "      <td>-0.057375</td>\n",
       "      <td>-0.286525</td>\n",
       "      <td>-0.593800</td>\n",
       "      <td>-0.364912</td>\n",
       "    </tr>\n",
       "    <tr>\n",
       "      <th>std</th>\n",
       "      <td>0.862666</td>\n",
       "      <td>0.809358</td>\n",
       "      <td>0.892751</td>\n",
       "      <td>0.854908</td>\n",
       "    </tr>\n",
       "    <tr>\n",
       "      <th>min</th>\n",
       "      <td>-1.004398</td>\n",
       "      <td>-1.622321</td>\n",
       "      <td>-1.707817</td>\n",
       "      <td>-1.390276</td>\n",
       "    </tr>\n",
       "    <tr>\n",
       "      <th>25%</th>\n",
       "      <td>-0.691700</td>\n",
       "      <td>-0.626423</td>\n",
       "      <td>-0.917860</td>\n",
       "      <td>-0.996678</td>\n",
       "    </tr>\n",
       "    <tr>\n",
       "      <th>50%</th>\n",
       "      <td>-0.196824</td>\n",
       "      <td>-0.152547</td>\n",
       "      <td>-0.784127</td>\n",
       "      <td>-0.439564</td>\n",
       "    </tr>\n",
       "    <tr>\n",
       "      <th>75%</th>\n",
       "      <td>0.457549</td>\n",
       "      <td>0.318046</td>\n",
       "      <td>-0.420508</td>\n",
       "      <td>0.333456</td>\n",
       "    </tr>\n",
       "    <tr>\n",
       "      <th>max</th>\n",
       "      <td>1.234784</td>\n",
       "      <td>0.517737</td>\n",
       "      <td>0.975008</td>\n",
       "      <td>0.671184</td>\n",
       "    </tr>\n",
       "  </tbody>\n",
       "</table>\n",
       "</div>"
      ],
      "text/plain": [
       "              A         B         C         D\n",
       "count  6.000000  6.000000  6.000000  6.000000\n",
       "mean  -0.057375 -0.286525 -0.593800 -0.364912\n",
       "std    0.862666  0.809358  0.892751  0.854908\n",
       "min   -1.004398 -1.622321 -1.707817 -1.390276\n",
       "25%   -0.691700 -0.626423 -0.917860 -0.996678\n",
       "50%   -0.196824 -0.152547 -0.784127 -0.439564\n",
       "75%    0.457549  0.318046 -0.420508  0.333456\n",
       "max    1.234784  0.517737  0.975008  0.671184"
      ]
     },
     "execution_count": 14,
     "metadata": {},
     "output_type": "execute_result"
    }
   ],
   "source": [
    "# describe()menunjukkan ringkasan statistik singkat data Anda:\n",
    "df.describe()"
   ]
  },
  {
   "cell_type": "code",
   "execution_count": 15,
   "id": "c941cf90-b3ce-46cb-8276-1c47e0e021ff",
   "metadata": {},
   "outputs": [
    {
     "data": {
      "text/html": [
       "<div>\n",
       "<style scoped>\n",
       "    .dataframe tbody tr th:only-of-type {\n",
       "        vertical-align: middle;\n",
       "    }\n",
       "\n",
       "    .dataframe tbody tr th {\n",
       "        vertical-align: top;\n",
       "    }\n",
       "\n",
       "    .dataframe thead th {\n",
       "        text-align: right;\n",
       "    }\n",
       "</style>\n",
       "<table border=\"1\" class=\"dataframe\">\n",
       "  <thead>\n",
       "    <tr style=\"text-align: right;\">\n",
       "      <th></th>\n",
       "      <th>2013-01-01</th>\n",
       "      <th>2013-01-02</th>\n",
       "      <th>2013-01-03</th>\n",
       "      <th>2013-01-04</th>\n",
       "      <th>2013-01-05</th>\n",
       "      <th>2013-01-06</th>\n",
       "    </tr>\n",
       "  </thead>\n",
       "  <tbody>\n",
       "    <tr>\n",
       "      <th>A</th>\n",
       "      <td>0.545794</td>\n",
       "      <td>-0.726781</td>\n",
       "      <td>0.192811</td>\n",
       "      <td>-1.004398</td>\n",
       "      <td>-0.586459</td>\n",
       "      <td>1.234784</td>\n",
       "    </tr>\n",
       "    <tr>\n",
       "      <th>B</th>\n",
       "      <td>0.517737</td>\n",
       "      <td>0.466654</td>\n",
       "      <td>-1.622321</td>\n",
       "      <td>-0.776126</td>\n",
       "      <td>-0.177316</td>\n",
       "      <td>-0.127779</td>\n",
       "    </tr>\n",
       "    <tr>\n",
       "      <th>C</th>\n",
       "      <td>-0.310385</td>\n",
       "      <td>-0.750876</td>\n",
       "      <td>0.975008</td>\n",
       "      <td>-1.707817</td>\n",
       "      <td>-0.951355</td>\n",
       "      <td>-0.817377</td>\n",
       "    </tr>\n",
       "    <tr>\n",
       "      <th>D</th>\n",
       "      <td>-0.378463</td>\n",
       "      <td>0.570763</td>\n",
       "      <td>0.671184</td>\n",
       "      <td>-1.162016</td>\n",
       "      <td>-0.500664</td>\n",
       "      <td>-1.390276</td>\n",
       "    </tr>\n",
       "  </tbody>\n",
       "</table>\n",
       "</div>"
      ],
      "text/plain": [
       "   2013-01-01  2013-01-02  2013-01-03  2013-01-04  2013-01-05  2013-01-06\n",
       "A    0.545794   -0.726781    0.192811   -1.004398   -0.586459    1.234784\n",
       "B    0.517737    0.466654   -1.622321   -0.776126   -0.177316   -0.127779\n",
       "C   -0.310385   -0.750876    0.975008   -1.707817   -0.951355   -0.817377\n",
       "D   -0.378463    0.570763    0.671184   -1.162016   -0.500664   -1.390276"
      ]
     },
     "execution_count": 15,
     "metadata": {},
     "output_type": "execute_result"
    }
   ],
   "source": [
    "# Transposisi data Anda:\n",
    "df.T"
   ]
  },
  {
   "cell_type": "code",
   "execution_count": 16,
   "id": "ab3270cb-0091-4de5-852c-654f5ce60a16",
   "metadata": {},
   "outputs": [
    {
     "data": {
      "text/html": [
       "<div>\n",
       "<style scoped>\n",
       "    .dataframe tbody tr th:only-of-type {\n",
       "        vertical-align: middle;\n",
       "    }\n",
       "\n",
       "    .dataframe tbody tr th {\n",
       "        vertical-align: top;\n",
       "    }\n",
       "\n",
       "    .dataframe thead th {\n",
       "        text-align: right;\n",
       "    }\n",
       "</style>\n",
       "<table border=\"1\" class=\"dataframe\">\n",
       "  <thead>\n",
       "    <tr style=\"text-align: right;\">\n",
       "      <th></th>\n",
       "      <th>D</th>\n",
       "      <th>C</th>\n",
       "      <th>B</th>\n",
       "      <th>A</th>\n",
       "    </tr>\n",
       "  </thead>\n",
       "  <tbody>\n",
       "    <tr>\n",
       "      <th>2013-01-01</th>\n",
       "      <td>-0.378463</td>\n",
       "      <td>-0.310385</td>\n",
       "      <td>0.517737</td>\n",
       "      <td>0.545794</td>\n",
       "    </tr>\n",
       "    <tr>\n",
       "      <th>2013-01-02</th>\n",
       "      <td>0.570763</td>\n",
       "      <td>-0.750876</td>\n",
       "      <td>0.466654</td>\n",
       "      <td>-0.726781</td>\n",
       "    </tr>\n",
       "    <tr>\n",
       "      <th>2013-01-03</th>\n",
       "      <td>0.671184</td>\n",
       "      <td>0.975008</td>\n",
       "      <td>-1.622321</td>\n",
       "      <td>0.192811</td>\n",
       "    </tr>\n",
       "    <tr>\n",
       "      <th>2013-01-04</th>\n",
       "      <td>-1.162016</td>\n",
       "      <td>-1.707817</td>\n",
       "      <td>-0.776126</td>\n",
       "      <td>-1.004398</td>\n",
       "    </tr>\n",
       "    <tr>\n",
       "      <th>2013-01-05</th>\n",
       "      <td>-0.500664</td>\n",
       "      <td>-0.951355</td>\n",
       "      <td>-0.177316</td>\n",
       "      <td>-0.586459</td>\n",
       "    </tr>\n",
       "    <tr>\n",
       "      <th>2013-01-06</th>\n",
       "      <td>-1.390276</td>\n",
       "      <td>-0.817377</td>\n",
       "      <td>-0.127779</td>\n",
       "      <td>1.234784</td>\n",
       "    </tr>\n",
       "  </tbody>\n",
       "</table>\n",
       "</div>"
      ],
      "text/plain": [
       "                   D         C         B         A\n",
       "2013-01-01 -0.378463 -0.310385  0.517737  0.545794\n",
       "2013-01-02  0.570763 -0.750876  0.466654 -0.726781\n",
       "2013-01-03  0.671184  0.975008 -1.622321  0.192811\n",
       "2013-01-04 -1.162016 -1.707817 -0.776126 -1.004398\n",
       "2013-01-05 -0.500664 -0.951355 -0.177316 -0.586459\n",
       "2013-01-06 -1.390276 -0.817377 -0.127779  1.234784"
      ]
     },
     "execution_count": 16,
     "metadata": {},
     "output_type": "execute_result"
    }
   ],
   "source": [
    "# DataFrame.sort_index()mengurutkan berdasarkan axis:\n",
    "df.sort_index(axis=1, ascending=False)"
   ]
  },
  {
   "cell_type": "code",
   "execution_count": 17,
   "id": "4d1272f4-8293-4056-95e4-740b42be8320",
   "metadata": {},
   "outputs": [
    {
     "data": {
      "text/html": [
       "<div>\n",
       "<style scoped>\n",
       "    .dataframe tbody tr th:only-of-type {\n",
       "        vertical-align: middle;\n",
       "    }\n",
       "\n",
       "    .dataframe tbody tr th {\n",
       "        vertical-align: top;\n",
       "    }\n",
       "\n",
       "    .dataframe thead th {\n",
       "        text-align: right;\n",
       "    }\n",
       "</style>\n",
       "<table border=\"1\" class=\"dataframe\">\n",
       "  <thead>\n",
       "    <tr style=\"text-align: right;\">\n",
       "      <th></th>\n",
       "      <th>A</th>\n",
       "      <th>B</th>\n",
       "      <th>C</th>\n",
       "      <th>D</th>\n",
       "    </tr>\n",
       "  </thead>\n",
       "  <tbody>\n",
       "    <tr>\n",
       "      <th>2013-01-03</th>\n",
       "      <td>0.192811</td>\n",
       "      <td>-1.622321</td>\n",
       "      <td>0.975008</td>\n",
       "      <td>0.671184</td>\n",
       "    </tr>\n",
       "    <tr>\n",
       "      <th>2013-01-04</th>\n",
       "      <td>-1.004398</td>\n",
       "      <td>-0.776126</td>\n",
       "      <td>-1.707817</td>\n",
       "      <td>-1.162016</td>\n",
       "    </tr>\n",
       "    <tr>\n",
       "      <th>2013-01-05</th>\n",
       "      <td>-0.586459</td>\n",
       "      <td>-0.177316</td>\n",
       "      <td>-0.951355</td>\n",
       "      <td>-0.500664</td>\n",
       "    </tr>\n",
       "    <tr>\n",
       "      <th>2013-01-06</th>\n",
       "      <td>1.234784</td>\n",
       "      <td>-0.127779</td>\n",
       "      <td>-0.817377</td>\n",
       "      <td>-1.390276</td>\n",
       "    </tr>\n",
       "    <tr>\n",
       "      <th>2013-01-02</th>\n",
       "      <td>-0.726781</td>\n",
       "      <td>0.466654</td>\n",
       "      <td>-0.750876</td>\n",
       "      <td>0.570763</td>\n",
       "    </tr>\n",
       "    <tr>\n",
       "      <th>2013-01-01</th>\n",
       "      <td>0.545794</td>\n",
       "      <td>0.517737</td>\n",
       "      <td>-0.310385</td>\n",
       "      <td>-0.378463</td>\n",
       "    </tr>\n",
       "  </tbody>\n",
       "</table>\n",
       "</div>"
      ],
      "text/plain": [
       "                   A         B         C         D\n",
       "2013-01-03  0.192811 -1.622321  0.975008  0.671184\n",
       "2013-01-04 -1.004398 -0.776126 -1.707817 -1.162016\n",
       "2013-01-05 -0.586459 -0.177316 -0.951355 -0.500664\n",
       "2013-01-06  1.234784 -0.127779 -0.817377 -1.390276\n",
       "2013-01-02 -0.726781  0.466654 -0.750876  0.570763\n",
       "2013-01-01  0.545794  0.517737 -0.310385 -0.378463"
      ]
     },
     "execution_count": 17,
     "metadata": {},
     "output_type": "execute_result"
    }
   ],
   "source": [
    "# DataFrame.sort_values() sorts by values:\n",
    "df.sort_values(by=\"B\")"
   ]
  },
  {
   "cell_type": "markdown",
   "id": "3a6a2c8c-7d20-4ee7-aa34-fb3a30c908a2",
   "metadata": {},
   "source": [
    "# Selection\n",
    "Meskipun ekspresi standar Python/NumPy untuk pemilihan dan pengaturan bersifat intuitif dan berguna untuk pekerjaan interaktif, untuk kode produksi, kami merekomendasikan metode akses data pandas yang dioptimalkan, DataFrame.at(), DataFrame.iat(), DataFrame.loc()dan DataFrame.iloc()."
   ]
  },
  {
   "cell_type": "code",
   "execution_count": 18,
   "id": "2c941ca5-55ba-4274-b4a3-23a20d159ba9",
   "metadata": {},
   "outputs": [
    {
     "data": {
      "text/plain": [
       "2013-01-01    0.545794\n",
       "2013-01-02   -0.726781\n",
       "2013-01-03    0.192811\n",
       "2013-01-04   -1.004398\n",
       "2013-01-05   -0.586459\n",
       "2013-01-06    1.234784\n",
       "Freq: D, Name: A, dtype: float64"
      ]
     },
     "execution_count": 18,
     "metadata": {},
     "output_type": "execute_result"
    }
   ],
   "source": [
    "# Getitem([])\n",
    "# For a DataFrame, passing a single label selects a columns and yields a Series equivalent to df.A:\n",
    "df[\"A\"]"
   ]
  },
  {
   "cell_type": "code",
   "execution_count": 19,
   "id": "c8c9c913-d194-40d7-b4bf-5f800e02a5ee",
   "metadata": {},
   "outputs": [
    {
     "data": {
      "text/html": [
       "<div>\n",
       "<style scoped>\n",
       "    .dataframe tbody tr th:only-of-type {\n",
       "        vertical-align: middle;\n",
       "    }\n",
       "\n",
       "    .dataframe tbody tr th {\n",
       "        vertical-align: top;\n",
       "    }\n",
       "\n",
       "    .dataframe thead th {\n",
       "        text-align: right;\n",
       "    }\n",
       "</style>\n",
       "<table border=\"1\" class=\"dataframe\">\n",
       "  <thead>\n",
       "    <tr style=\"text-align: right;\">\n",
       "      <th></th>\n",
       "      <th>A</th>\n",
       "      <th>B</th>\n",
       "      <th>C</th>\n",
       "      <th>D</th>\n",
       "    </tr>\n",
       "  </thead>\n",
       "  <tbody>\n",
       "    <tr>\n",
       "      <th>2013-01-01</th>\n",
       "      <td>0.545794</td>\n",
       "      <td>0.517737</td>\n",
       "      <td>-0.310385</td>\n",
       "      <td>-0.378463</td>\n",
       "    </tr>\n",
       "    <tr>\n",
       "      <th>2013-01-02</th>\n",
       "      <td>-0.726781</td>\n",
       "      <td>0.466654</td>\n",
       "      <td>-0.750876</td>\n",
       "      <td>0.570763</td>\n",
       "    </tr>\n",
       "    <tr>\n",
       "      <th>2013-01-03</th>\n",
       "      <td>0.192811</td>\n",
       "      <td>-1.622321</td>\n",
       "      <td>0.975008</td>\n",
       "      <td>0.671184</td>\n",
       "    </tr>\n",
       "  </tbody>\n",
       "</table>\n",
       "</div>"
      ],
      "text/plain": [
       "                   A         B         C         D\n",
       "2013-01-01  0.545794  0.517737 -0.310385 -0.378463\n",
       "2013-01-02 -0.726781  0.466654 -0.750876  0.570763\n",
       "2013-01-03  0.192811 -1.622321  0.975008  0.671184"
      ]
     },
     "execution_count": 19,
     "metadata": {},
     "output_type": "execute_result"
    }
   ],
   "source": [
    "# For a DataFrame, passing a slice : selects matching rows:\n",
    "df[0:3]"
   ]
  },
  {
   "cell_type": "code",
   "execution_count": 20,
   "id": "87700fbf-3381-430f-87a1-f84c587e9cb6",
   "metadata": {},
   "outputs": [
    {
     "data": {
      "text/html": [
       "<div>\n",
       "<style scoped>\n",
       "    .dataframe tbody tr th:only-of-type {\n",
       "        vertical-align: middle;\n",
       "    }\n",
       "\n",
       "    .dataframe tbody tr th {\n",
       "        vertical-align: top;\n",
       "    }\n",
       "\n",
       "    .dataframe thead th {\n",
       "        text-align: right;\n",
       "    }\n",
       "</style>\n",
       "<table border=\"1\" class=\"dataframe\">\n",
       "  <thead>\n",
       "    <tr style=\"text-align: right;\">\n",
       "      <th></th>\n",
       "      <th>A</th>\n",
       "      <th>B</th>\n",
       "      <th>C</th>\n",
       "      <th>D</th>\n",
       "    </tr>\n",
       "  </thead>\n",
       "  <tbody>\n",
       "    <tr>\n",
       "      <th>2013-01-02</th>\n",
       "      <td>-0.726781</td>\n",
       "      <td>0.466654</td>\n",
       "      <td>-0.750876</td>\n",
       "      <td>0.570763</td>\n",
       "    </tr>\n",
       "    <tr>\n",
       "      <th>2013-01-03</th>\n",
       "      <td>0.192811</td>\n",
       "      <td>-1.622321</td>\n",
       "      <td>0.975008</td>\n",
       "      <td>0.671184</td>\n",
       "    </tr>\n",
       "    <tr>\n",
       "      <th>2013-01-04</th>\n",
       "      <td>-1.004398</td>\n",
       "      <td>-0.776126</td>\n",
       "      <td>-1.707817</td>\n",
       "      <td>-1.162016</td>\n",
       "    </tr>\n",
       "  </tbody>\n",
       "</table>\n",
       "</div>"
      ],
      "text/plain": [
       "                   A         B         C         D\n",
       "2013-01-02 -0.726781  0.466654 -0.750876  0.570763\n",
       "2013-01-03  0.192811 -1.622321  0.975008  0.671184\n",
       "2013-01-04 -1.004398 -0.776126 -1.707817 -1.162016"
      ]
     },
     "execution_count": 20,
     "metadata": {},
     "output_type": "execute_result"
    }
   ],
   "source": [
    "# contoh lainnya\n",
    "df[\"20130102\":\"20130104\"]"
   ]
  },
  {
   "cell_type": "markdown",
   "id": "8c755e2b-7b10-4880-b85a-959c20018fec",
   "metadata": {},
   "source": [
    "# Selection by label\n",
    "\n",
    "See more in Selection by Label using DataFrame.loc() or DataFrame.at().\r\n",
    "\r\n",
    "Selecting a row matching a label:"
   ]
  },
  {
   "cell_type": "code",
   "execution_count": 21,
   "id": "c98c5ab4-e223-4010-9c50-dac02d68cbac",
   "metadata": {},
   "outputs": [
    {
     "data": {
      "text/plain": [
       "A    0.545794\n",
       "B    0.517737\n",
       "C   -0.310385\n",
       "D   -0.378463\n",
       "Name: 2013-01-01 00:00:00, dtype: float64"
      ]
     },
     "execution_count": 21,
     "metadata": {},
     "output_type": "execute_result"
    }
   ],
   "source": [
    "df.loc[dates[0]]"
   ]
  },
  {
   "cell_type": "code",
   "execution_count": 22,
   "id": "2df02cd7-d136-4a56-8f7c-abda73e3d585",
   "metadata": {},
   "outputs": [
    {
     "data": {
      "text/html": [
       "<div>\n",
       "<style scoped>\n",
       "    .dataframe tbody tr th:only-of-type {\n",
       "        vertical-align: middle;\n",
       "    }\n",
       "\n",
       "    .dataframe tbody tr th {\n",
       "        vertical-align: top;\n",
       "    }\n",
       "\n",
       "    .dataframe thead th {\n",
       "        text-align: right;\n",
       "    }\n",
       "</style>\n",
       "<table border=\"1\" class=\"dataframe\">\n",
       "  <thead>\n",
       "    <tr style=\"text-align: right;\">\n",
       "      <th></th>\n",
       "      <th>A</th>\n",
       "      <th>B</th>\n",
       "    </tr>\n",
       "  </thead>\n",
       "  <tbody>\n",
       "    <tr>\n",
       "      <th>2013-01-01</th>\n",
       "      <td>0.545794</td>\n",
       "      <td>0.517737</td>\n",
       "    </tr>\n",
       "    <tr>\n",
       "      <th>2013-01-02</th>\n",
       "      <td>-0.726781</td>\n",
       "      <td>0.466654</td>\n",
       "    </tr>\n",
       "    <tr>\n",
       "      <th>2013-01-03</th>\n",
       "      <td>0.192811</td>\n",
       "      <td>-1.622321</td>\n",
       "    </tr>\n",
       "    <tr>\n",
       "      <th>2013-01-04</th>\n",
       "      <td>-1.004398</td>\n",
       "      <td>-0.776126</td>\n",
       "    </tr>\n",
       "    <tr>\n",
       "      <th>2013-01-05</th>\n",
       "      <td>-0.586459</td>\n",
       "      <td>-0.177316</td>\n",
       "    </tr>\n",
       "    <tr>\n",
       "      <th>2013-01-06</th>\n",
       "      <td>1.234784</td>\n",
       "      <td>-0.127779</td>\n",
       "    </tr>\n",
       "  </tbody>\n",
       "</table>\n",
       "</div>"
      ],
      "text/plain": [
       "                   A         B\n",
       "2013-01-01  0.545794  0.517737\n",
       "2013-01-02 -0.726781  0.466654\n",
       "2013-01-03  0.192811 -1.622321\n",
       "2013-01-04 -1.004398 -0.776126\n",
       "2013-01-05 -0.586459 -0.177316\n",
       "2013-01-06  1.234784 -0.127779"
      ]
     },
     "execution_count": 22,
     "metadata": {},
     "output_type": "execute_result"
    }
   ],
   "source": [
    "df.loc[:,[\"A\", \"B\"]]"
   ]
  },
  {
   "cell_type": "code",
   "execution_count": 23,
   "id": "90b4788c-0fe8-44ec-8c59-c569be1ad50e",
   "metadata": {},
   "outputs": [
    {
     "data": {
      "text/html": [
       "<div>\n",
       "<style scoped>\n",
       "    .dataframe tbody tr th:only-of-type {\n",
       "        vertical-align: middle;\n",
       "    }\n",
       "\n",
       "    .dataframe tbody tr th {\n",
       "        vertical-align: top;\n",
       "    }\n",
       "\n",
       "    .dataframe thead th {\n",
       "        text-align: right;\n",
       "    }\n",
       "</style>\n",
       "<table border=\"1\" class=\"dataframe\">\n",
       "  <thead>\n",
       "    <tr style=\"text-align: right;\">\n",
       "      <th></th>\n",
       "      <th>A</th>\n",
       "      <th>B</th>\n",
       "    </tr>\n",
       "  </thead>\n",
       "  <tbody>\n",
       "    <tr>\n",
       "      <th>2013-01-02</th>\n",
       "      <td>-0.726781</td>\n",
       "      <td>0.466654</td>\n",
       "    </tr>\n",
       "    <tr>\n",
       "      <th>2013-01-03</th>\n",
       "      <td>0.192811</td>\n",
       "      <td>-1.622321</td>\n",
       "    </tr>\n",
       "    <tr>\n",
       "      <th>2013-01-04</th>\n",
       "      <td>-1.004398</td>\n",
       "      <td>-0.776126</td>\n",
       "    </tr>\n",
       "  </tbody>\n",
       "</table>\n",
       "</div>"
      ],
      "text/plain": [
       "                   A         B\n",
       "2013-01-02 -0.726781  0.466654\n",
       "2013-01-03  0.192811 -1.622321\n",
       "2013-01-04 -1.004398 -0.776126"
      ]
     },
     "execution_count": 23,
     "metadata": {},
     "output_type": "execute_result"
    }
   ],
   "source": [
    "df.loc[\"20130102\":\"20130104\", [\"A\",\"B\"]]"
   ]
  },
  {
   "cell_type": "code",
   "execution_count": 24,
   "id": "c55ff350-53e7-45e2-8032-84de68563a54",
   "metadata": {},
   "outputs": [
    {
     "data": {
      "text/plain": [
       "A    0.545794\n",
       "Name: 2013-01-01 00:00:00, dtype: float64"
      ]
     },
     "execution_count": 24,
     "metadata": {},
     "output_type": "execute_result"
    }
   ],
   "source": [
    "df.loc[dates[0],[\"A\"]]"
   ]
  },
  {
   "cell_type": "markdown",
   "id": "799944a9-d25c-4e69-9aeb-8a5509bd8770",
   "metadata": {},
   "source": [
    "## Selection by position\n",
    "See more in Selection by Position using DataFrame.iloc() or DataFrame.iat().\n",
    "\n",
    "Select via the position of the passed integers:"
   ]
  },
  {
   "cell_type": "code",
   "execution_count": 25,
   "id": "af570bfb-f480-4cc5-9479-2a6fa1d02445",
   "metadata": {},
   "outputs": [
    {
     "data": {
      "text/plain": [
       "A   -1.004398\n",
       "B   -0.776126\n",
       "C   -1.707817\n",
       "D   -1.162016\n",
       "Name: 2013-01-04 00:00:00, dtype: float64"
      ]
     },
     "execution_count": 25,
     "metadata": {},
     "output_type": "execute_result"
    }
   ],
   "source": [
    "df.iloc[3]"
   ]
  },
  {
   "cell_type": "code",
   "execution_count": 29,
   "id": "36df44a5-8385-43de-ae36-41215e5ad002",
   "metadata": {},
   "outputs": [
    {
     "data": {
      "text/html": [
       "<div>\n",
       "<style scoped>\n",
       "    .dataframe tbody tr th:only-of-type {\n",
       "        vertical-align: middle;\n",
       "    }\n",
       "\n",
       "    .dataframe tbody tr th {\n",
       "        vertical-align: top;\n",
       "    }\n",
       "\n",
       "    .dataframe thead th {\n",
       "        text-align: right;\n",
       "    }\n",
       "</style>\n",
       "<table border=\"1\" class=\"dataframe\">\n",
       "  <thead>\n",
       "    <tr style=\"text-align: right;\">\n",
       "      <th></th>\n",
       "      <th>A</th>\n",
       "      <th>B</th>\n",
       "    </tr>\n",
       "  </thead>\n",
       "  <tbody>\n",
       "    <tr>\n",
       "      <th>2013-01-04</th>\n",
       "      <td>-1.004398</td>\n",
       "      <td>-0.776126</td>\n",
       "    </tr>\n",
       "    <tr>\n",
       "      <th>2013-01-05</th>\n",
       "      <td>-0.586459</td>\n",
       "      <td>-0.177316</td>\n",
       "    </tr>\n",
       "  </tbody>\n",
       "</table>\n",
       "</div>"
      ],
      "text/plain": [
       "                   A         B\n",
       "2013-01-04 -1.004398 -0.776126\n",
       "2013-01-05 -0.586459 -0.177316"
      ]
     },
     "execution_count": 29,
     "metadata": {},
     "output_type": "execute_result"
    }
   ],
   "source": [
    "# Integer slices acts similar to NumPy/Python:\n",
    "df.iloc[3:5, 0:2]"
   ]
  },
  {
   "cell_type": "code",
   "execution_count": 30,
   "id": "e6f13135-766b-40ae-8c58-0eb5088709cd",
   "metadata": {},
   "outputs": [
    {
     "data": {
      "text/html": [
       "<div>\n",
       "<style scoped>\n",
       "    .dataframe tbody tr th:only-of-type {\n",
       "        vertical-align: middle;\n",
       "    }\n",
       "\n",
       "    .dataframe tbody tr th {\n",
       "        vertical-align: top;\n",
       "    }\n",
       "\n",
       "    .dataframe thead th {\n",
       "        text-align: right;\n",
       "    }\n",
       "</style>\n",
       "<table border=\"1\" class=\"dataframe\">\n",
       "  <thead>\n",
       "    <tr style=\"text-align: right;\">\n",
       "      <th></th>\n",
       "      <th>A</th>\n",
       "      <th>C</th>\n",
       "    </tr>\n",
       "  </thead>\n",
       "  <tbody>\n",
       "    <tr>\n",
       "      <th>2013-01-02</th>\n",
       "      <td>-0.726781</td>\n",
       "      <td>-0.750876</td>\n",
       "    </tr>\n",
       "    <tr>\n",
       "      <th>2013-01-03</th>\n",
       "      <td>0.192811</td>\n",
       "      <td>0.975008</td>\n",
       "    </tr>\n",
       "    <tr>\n",
       "      <th>2013-01-05</th>\n",
       "      <td>-0.586459</td>\n",
       "      <td>-0.951355</td>\n",
       "    </tr>\n",
       "  </tbody>\n",
       "</table>\n",
       "</div>"
      ],
      "text/plain": [
       "                   A         C\n",
       "2013-01-02 -0.726781 -0.750876\n",
       "2013-01-03  0.192811  0.975008\n",
       "2013-01-05 -0.586459 -0.951355"
      ]
     },
     "execution_count": 30,
     "metadata": {},
     "output_type": "execute_result"
    }
   ],
   "source": [
    "# Lists of integer position locations:\n",
    "df.iloc[[1,2,4],[0, 2]]"
   ]
  },
  {
   "cell_type": "code",
   "execution_count": 34,
   "id": "115581ef-1a60-4110-a271-9bec053ca231",
   "metadata": {},
   "outputs": [
    {
     "data": {
      "text/html": [
       "<div>\n",
       "<style scoped>\n",
       "    .dataframe tbody tr th:only-of-type {\n",
       "        vertical-align: middle;\n",
       "    }\n",
       "\n",
       "    .dataframe tbody tr th {\n",
       "        vertical-align: top;\n",
       "    }\n",
       "\n",
       "    .dataframe thead th {\n",
       "        text-align: right;\n",
       "    }\n",
       "</style>\n",
       "<table border=\"1\" class=\"dataframe\">\n",
       "  <thead>\n",
       "    <tr style=\"text-align: right;\">\n",
       "      <th></th>\n",
       "      <th>A</th>\n",
       "      <th>B</th>\n",
       "      <th>C</th>\n",
       "      <th>D</th>\n",
       "    </tr>\n",
       "  </thead>\n",
       "  <tbody>\n",
       "    <tr>\n",
       "      <th>2013-01-02</th>\n",
       "      <td>-0.726781</td>\n",
       "      <td>0.466654</td>\n",
       "      <td>-0.750876</td>\n",
       "      <td>0.570763</td>\n",
       "    </tr>\n",
       "    <tr>\n",
       "      <th>2013-01-03</th>\n",
       "      <td>0.192811</td>\n",
       "      <td>-1.622321</td>\n",
       "      <td>0.975008</td>\n",
       "      <td>0.671184</td>\n",
       "    </tr>\n",
       "  </tbody>\n",
       "</table>\n",
       "</div>"
      ],
      "text/plain": [
       "                   A         B         C         D\n",
       "2013-01-02 -0.726781  0.466654 -0.750876  0.570763\n",
       "2013-01-03  0.192811 -1.622321  0.975008  0.671184"
      ]
     },
     "execution_count": 34,
     "metadata": {},
     "output_type": "execute_result"
    }
   ],
   "source": [
    "# For slicing rows explicitly:\n",
    "df.iloc[1:3, :]"
   ]
  },
  {
   "cell_type": "code",
   "execution_count": 33,
   "id": "a1488516-f5c7-41f8-b813-ab04c9849215",
   "metadata": {},
   "outputs": [
    {
     "data": {
      "text/html": [
       "<div>\n",
       "<style scoped>\n",
       "    .dataframe tbody tr th:only-of-type {\n",
       "        vertical-align: middle;\n",
       "    }\n",
       "\n",
       "    .dataframe tbody tr th {\n",
       "        vertical-align: top;\n",
       "    }\n",
       "\n",
       "    .dataframe thead th {\n",
       "        text-align: right;\n",
       "    }\n",
       "</style>\n",
       "<table border=\"1\" class=\"dataframe\">\n",
       "  <thead>\n",
       "    <tr style=\"text-align: right;\">\n",
       "      <th></th>\n",
       "      <th>B</th>\n",
       "      <th>C</th>\n",
       "    </tr>\n",
       "  </thead>\n",
       "  <tbody>\n",
       "    <tr>\n",
       "      <th>2013-01-01</th>\n",
       "      <td>0.517737</td>\n",
       "      <td>-0.310385</td>\n",
       "    </tr>\n",
       "    <tr>\n",
       "      <th>2013-01-02</th>\n",
       "      <td>0.466654</td>\n",
       "      <td>-0.750876</td>\n",
       "    </tr>\n",
       "    <tr>\n",
       "      <th>2013-01-03</th>\n",
       "      <td>-1.622321</td>\n",
       "      <td>0.975008</td>\n",
       "    </tr>\n",
       "    <tr>\n",
       "      <th>2013-01-04</th>\n",
       "      <td>-0.776126</td>\n",
       "      <td>-1.707817</td>\n",
       "    </tr>\n",
       "    <tr>\n",
       "      <th>2013-01-05</th>\n",
       "      <td>-0.177316</td>\n",
       "      <td>-0.951355</td>\n",
       "    </tr>\n",
       "    <tr>\n",
       "      <th>2013-01-06</th>\n",
       "      <td>-0.127779</td>\n",
       "      <td>-0.817377</td>\n",
       "    </tr>\n",
       "  </tbody>\n",
       "</table>\n",
       "</div>"
      ],
      "text/plain": [
       "                   B         C\n",
       "2013-01-01  0.517737 -0.310385\n",
       "2013-01-02  0.466654 -0.750876\n",
       "2013-01-03 -1.622321  0.975008\n",
       "2013-01-04 -0.776126 -1.707817\n",
       "2013-01-05 -0.177316 -0.951355\n",
       "2013-01-06 -0.127779 -0.817377"
      ]
     },
     "execution_count": 33,
     "metadata": {},
     "output_type": "execute_result"
    }
   ],
   "source": [
    "# For slicing columns explicitly:\n",
    "df.iloc[:, 1:3]"
   ]
  },
  {
   "cell_type": "code",
   "execution_count": 36,
   "id": "8b115368-52c7-474f-a4f1-7d717346b3a3",
   "metadata": {},
   "outputs": [
    {
     "data": {
      "text/plain": [
       "0.4666538504696217"
      ]
     },
     "execution_count": 36,
     "metadata": {},
     "output_type": "execute_result"
    }
   ],
   "source": [
    "# For getting fast access to a scalar (equivalent to the prior method):\n",
    "df.iat[1,1]"
   ]
  },
  {
   "cell_type": "markdown",
   "id": "88cdc4d3-0d99-442b-9a59-edac3911c10a",
   "metadata": {},
   "source": [
    "## Boolean indexing\n",
    "\n",
    "Select rows where df.A is greater than 0."
   ]
  },
  {
   "cell_type": "code",
   "execution_count": null,
   "id": "790a4613-45af-4867-a1f1-111fd4af949c",
   "metadata": {},
   "outputs": [],
   "source": []
  }
 ],
 "metadata": {
  "kernelspec": {
   "display_name": "Python 3 (ipykernel)",
   "language": "python",
   "name": "python3"
  },
  "language_info": {
   "codemirror_mode": {
    "name": "ipython",
    "version": 3
   },
   "file_extension": ".py",
   "mimetype": "text/x-python",
   "name": "python",
   "nbconvert_exporter": "python",
   "pygments_lexer": "ipython3",
   "version": "3.11.7"
  }
 },
 "nbformat": 4,
 "nbformat_minor": 5
}
