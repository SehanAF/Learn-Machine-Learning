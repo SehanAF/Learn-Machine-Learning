{
 "cells": [
  {
   "cell_type": "code",
   "execution_count": 1,
   "id": "20bff8da-d548-4927-84c1-fbe1ab406df6",
   "metadata": {},
   "outputs": [],
   "source": [
    "import numpy as np\n",
    "import pandas as pd"
   ]
  },
  {
   "cell_type": "markdown",
   "id": "1a7eec19-68c2-4856-a19c-c25d3ae91100",
   "metadata": {},
   "source": [
    "## Basic data structures in pandas\n",
    "\n",
    "- Series: a one-dimensional labeled array holding data of any type\r\n",
    "such as integers, strings, Python objects etc\n",
    "\n",
    "- DataFrame: a two-dimensional data structure that holds data like a two-dimension array or a table with rows and columns..ns."
   ]
  },
  {
   "cell_type": "code",
   "execution_count": 2,
   "id": "4f4c97b9-26e5-494a-ad64-3327425b405c",
   "metadata": {},
   "outputs": [
    {
     "data": {
      "text/plain": [
       "0    1.0\n",
       "1    3.0\n",
       "2    5.0\n",
       "3    NaN\n",
       "4    6.0\n",
       "5    8.0\n",
       "dtype: float64"
      ]
     },
     "execution_count": 2,
     "metadata": {},
     "output_type": "execute_result"
    }
   ],
   "source": [
    "s = pd.Series([1,3,5, np.nan, 6, 8])\n",
    "s"
   ]
  },
  {
   "cell_type": "code",
   "execution_count": 3,
   "id": "b0a6aba3-fb0e-4a66-8e35-96d19ba0d2dc",
   "metadata": {},
   "outputs": [
    {
     "data": {
      "text/plain": [
       "DatetimeIndex(['2013-01-01', '2013-01-02', '2013-01-03', '2013-01-04',\n",
       "               '2013-01-05', '2013-01-06'],\n",
       "              dtype='datetime64[ns]', freq='D')"
      ]
     },
     "execution_count": 3,
     "metadata": {},
     "output_type": "execute_result"
    }
   ],
   "source": [
    "# Creating a DataFrame by passing a NumPy array with a datetime index using date_range() and labeled columns:\n",
    "dates = pd.date_range(\"20130101\", periods=6)\n",
    "dates"
   ]
  },
  {
   "cell_type": "code",
   "execution_count": 4,
   "id": "323bd63a-4aa2-48e1-a7e4-3598a20e71e5",
   "metadata": {},
   "outputs": [
    {
     "data": {
      "text/html": [
       "<div>\n",
       "<style scoped>\n",
       "    .dataframe tbody tr th:only-of-type {\n",
       "        vertical-align: middle;\n",
       "    }\n",
       "\n",
       "    .dataframe tbody tr th {\n",
       "        vertical-align: top;\n",
       "    }\n",
       "\n",
       "    .dataframe thead th {\n",
       "        text-align: right;\n",
       "    }\n",
       "</style>\n",
       "<table border=\"1\" class=\"dataframe\">\n",
       "  <thead>\n",
       "    <tr style=\"text-align: right;\">\n",
       "      <th></th>\n",
       "      <th>A</th>\n",
       "      <th>B</th>\n",
       "      <th>C</th>\n",
       "      <th>D</th>\n",
       "    </tr>\n",
       "  </thead>\n",
       "  <tbody>\n",
       "    <tr>\n",
       "      <th>2013-01-01</th>\n",
       "      <td>-0.564024</td>\n",
       "      <td>0.592217</td>\n",
       "      <td>-0.274493</td>\n",
       "      <td>1.342779</td>\n",
       "    </tr>\n",
       "    <tr>\n",
       "      <th>2013-01-02</th>\n",
       "      <td>-1.155801</td>\n",
       "      <td>1.123790</td>\n",
       "      <td>0.608508</td>\n",
       "      <td>-0.623334</td>\n",
       "    </tr>\n",
       "    <tr>\n",
       "      <th>2013-01-03</th>\n",
       "      <td>-1.273560</td>\n",
       "      <td>-0.378583</td>\n",
       "      <td>1.692300</td>\n",
       "      <td>-1.163162</td>\n",
       "    </tr>\n",
       "    <tr>\n",
       "      <th>2013-01-04</th>\n",
       "      <td>-0.234764</td>\n",
       "      <td>1.042969</td>\n",
       "      <td>-0.159647</td>\n",
       "      <td>-0.438775</td>\n",
       "    </tr>\n",
       "    <tr>\n",
       "      <th>2013-01-05</th>\n",
       "      <td>0.060803</td>\n",
       "      <td>-0.207916</td>\n",
       "      <td>1.111743</td>\n",
       "      <td>-0.966972</td>\n",
       "    </tr>\n",
       "    <tr>\n",
       "      <th>2013-01-06</th>\n",
       "      <td>-1.008815</td>\n",
       "      <td>0.777257</td>\n",
       "      <td>0.470818</td>\n",
       "      <td>-1.840966</td>\n",
       "    </tr>\n",
       "  </tbody>\n",
       "</table>\n",
       "</div>"
      ],
      "text/plain": [
       "                   A         B         C         D\n",
       "2013-01-01 -0.564024  0.592217 -0.274493  1.342779\n",
       "2013-01-02 -1.155801  1.123790  0.608508 -0.623334\n",
       "2013-01-03 -1.273560 -0.378583  1.692300 -1.163162\n",
       "2013-01-04 -0.234764  1.042969 -0.159647 -0.438775\n",
       "2013-01-05  0.060803 -0.207916  1.111743 -0.966972\n",
       "2013-01-06 -1.008815  0.777257  0.470818 -1.840966"
      ]
     },
     "execution_count": 4,
     "metadata": {},
     "output_type": "execute_result"
    }
   ],
   "source": [
    "df = pd.DataFrame(np.random.randn(6, 4), index=dates, columns=list(\"ABCD\"))\n",
    "df"
   ]
  },
  {
   "cell_type": "code",
   "execution_count": 5,
   "id": "e39f088c-b807-42d1-9867-e28c2b44cf08",
   "metadata": {},
   "outputs": [
    {
     "data": {
      "text/html": [
       "<div>\n",
       "<style scoped>\n",
       "    .dataframe tbody tr th:only-of-type {\n",
       "        vertical-align: middle;\n",
       "    }\n",
       "\n",
       "    .dataframe tbody tr th {\n",
       "        vertical-align: top;\n",
       "    }\n",
       "\n",
       "    .dataframe thead th {\n",
       "        text-align: right;\n",
       "    }\n",
       "</style>\n",
       "<table border=\"1\" class=\"dataframe\">\n",
       "  <thead>\n",
       "    <tr style=\"text-align: right;\">\n",
       "      <th></th>\n",
       "      <th>A</th>\n",
       "      <th>B</th>\n",
       "      <th>C</th>\n",
       "      <th>D</th>\n",
       "      <th>E</th>\n",
       "      <th>F</th>\n",
       "    </tr>\n",
       "  </thead>\n",
       "  <tbody>\n",
       "    <tr>\n",
       "      <th>0</th>\n",
       "      <td>1.0</td>\n",
       "      <td>2013-01-02</td>\n",
       "      <td>1.0</td>\n",
       "      <td>3</td>\n",
       "      <td>test</td>\n",
       "      <td>foo</td>\n",
       "    </tr>\n",
       "    <tr>\n",
       "      <th>1</th>\n",
       "      <td>1.0</td>\n",
       "      <td>2013-01-02</td>\n",
       "      <td>1.0</td>\n",
       "      <td>3</td>\n",
       "      <td>train</td>\n",
       "      <td>foo</td>\n",
       "    </tr>\n",
       "    <tr>\n",
       "      <th>2</th>\n",
       "      <td>1.0</td>\n",
       "      <td>2013-01-02</td>\n",
       "      <td>1.0</td>\n",
       "      <td>3</td>\n",
       "      <td>test</td>\n",
       "      <td>foo</td>\n",
       "    </tr>\n",
       "    <tr>\n",
       "      <th>3</th>\n",
       "      <td>1.0</td>\n",
       "      <td>2013-01-02</td>\n",
       "      <td>1.0</td>\n",
       "      <td>3</td>\n",
       "      <td>train</td>\n",
       "      <td>foo</td>\n",
       "    </tr>\n",
       "  </tbody>\n",
       "</table>\n",
       "</div>"
      ],
      "text/plain": [
       "     A          B    C  D      E    F\n",
       "0  1.0 2013-01-02  1.0  3   test  foo\n",
       "1  1.0 2013-01-02  1.0  3  train  foo\n",
       "2  1.0 2013-01-02  1.0  3   test  foo\n",
       "3  1.0 2013-01-02  1.0  3  train  foo"
      ]
     },
     "execution_count": 5,
     "metadata": {},
     "output_type": "execute_result"
    }
   ],
   "source": [
    "# Creating a DataFrame by passing a dictionary of objects where the keys are the column labels and the values are the column values.\n",
    "df2 = pd.DataFrame({\n",
    "    \"A\": 1.0,\n",
    "    \"B\": pd.Timestamp(\"20130102\"),\n",
    "    \"C\": pd.Series(1, index=list(range(4)), dtype=\"float32\"),\n",
    "    \"D\": np.array([3] * 4, dtype=\"int32\"),\n",
    "    \"E\": pd.Categorical([\"test\", \"train\", \"test\", \"train\"]),\n",
    "    \"F\": \"foo\",\n",
    "    }\n",
    ")\n",
    "df2"
   ]
  },
  {
   "cell_type": "code",
   "execution_count": 6,
   "id": "bd8b05e7-ff76-400c-8b4d-f097dc5742fe",
   "metadata": {},
   "outputs": [
    {
     "data": {
      "text/plain": [
       "A          float64\n",
       "B    datetime64[s]\n",
       "C          float32\n",
       "D            int32\n",
       "E         category\n",
       "F           object\n",
       "dtype: object"
      ]
     },
     "execution_count": 6,
     "metadata": {},
     "output_type": "execute_result"
    }
   ],
   "source": [
    "df2.dtypes"
   ]
  },
  {
   "cell_type": "markdown",
   "id": "e8182baf-85e3-49b1-88f0-56ea08ecb279",
   "metadata": {},
   "source": [
    "# Viewing data\n",
    "\n",
    "Use DataFrame.head() and DataFrame.tail() to view the top and bottom rows of the frame respectively:\r",
    "df"
   ]
  },
  {
   "cell_type": "code",
   "execution_count": 7,
   "id": "0e467f74-c226-4fc5-94bb-409deb182ea4",
   "metadata": {},
   "outputs": [
    {
     "data": {
      "text/html": [
       "<div>\n",
       "<style scoped>\n",
       "    .dataframe tbody tr th:only-of-type {\n",
       "        vertical-align: middle;\n",
       "    }\n",
       "\n",
       "    .dataframe tbody tr th {\n",
       "        vertical-align: top;\n",
       "    }\n",
       "\n",
       "    .dataframe thead th {\n",
       "        text-align: right;\n",
       "    }\n",
       "</style>\n",
       "<table border=\"1\" class=\"dataframe\">\n",
       "  <thead>\n",
       "    <tr style=\"text-align: right;\">\n",
       "      <th></th>\n",
       "      <th>A</th>\n",
       "      <th>B</th>\n",
       "      <th>C</th>\n",
       "      <th>D</th>\n",
       "    </tr>\n",
       "  </thead>\n",
       "  <tbody>\n",
       "    <tr>\n",
       "      <th>2013-01-01</th>\n",
       "      <td>-0.564024</td>\n",
       "      <td>0.592217</td>\n",
       "      <td>-0.274493</td>\n",
       "      <td>1.342779</td>\n",
       "    </tr>\n",
       "    <tr>\n",
       "      <th>2013-01-02</th>\n",
       "      <td>-1.155801</td>\n",
       "      <td>1.123790</td>\n",
       "      <td>0.608508</td>\n",
       "      <td>-0.623334</td>\n",
       "    </tr>\n",
       "    <tr>\n",
       "      <th>2013-01-03</th>\n",
       "      <td>-1.273560</td>\n",
       "      <td>-0.378583</td>\n",
       "      <td>1.692300</td>\n",
       "      <td>-1.163162</td>\n",
       "    </tr>\n",
       "    <tr>\n",
       "      <th>2013-01-04</th>\n",
       "      <td>-0.234764</td>\n",
       "      <td>1.042969</td>\n",
       "      <td>-0.159647</td>\n",
       "      <td>-0.438775</td>\n",
       "    </tr>\n",
       "    <tr>\n",
       "      <th>2013-01-05</th>\n",
       "      <td>0.060803</td>\n",
       "      <td>-0.207916</td>\n",
       "      <td>1.111743</td>\n",
       "      <td>-0.966972</td>\n",
       "    </tr>\n",
       "  </tbody>\n",
       "</table>\n",
       "</div>"
      ],
      "text/plain": [
       "                   A         B         C         D\n",
       "2013-01-01 -0.564024  0.592217 -0.274493  1.342779\n",
       "2013-01-02 -1.155801  1.123790  0.608508 -0.623334\n",
       "2013-01-03 -1.273560 -0.378583  1.692300 -1.163162\n",
       "2013-01-04 -0.234764  1.042969 -0.159647 -0.438775\n",
       "2013-01-05  0.060803 -0.207916  1.111743 -0.966972"
      ]
     },
     "execution_count": 7,
     "metadata": {},
     "output_type": "execute_result"
    }
   ],
   "source": [
    "df.head()"
   ]
  },
  {
   "cell_type": "code",
   "execution_count": 8,
   "id": "d271b258-a660-4270-9b12-d7c28d9bfdfe",
   "metadata": {},
   "outputs": [
    {
     "data": {
      "text/html": [
       "<div>\n",
       "<style scoped>\n",
       "    .dataframe tbody tr th:only-of-type {\n",
       "        vertical-align: middle;\n",
       "    }\n",
       "\n",
       "    .dataframe tbody tr th {\n",
       "        vertical-align: top;\n",
       "    }\n",
       "\n",
       "    .dataframe thead th {\n",
       "        text-align: right;\n",
       "    }\n",
       "</style>\n",
       "<table border=\"1\" class=\"dataframe\">\n",
       "  <thead>\n",
       "    <tr style=\"text-align: right;\">\n",
       "      <th></th>\n",
       "      <th>A</th>\n",
       "      <th>B</th>\n",
       "      <th>C</th>\n",
       "      <th>D</th>\n",
       "    </tr>\n",
       "  </thead>\n",
       "  <tbody>\n",
       "    <tr>\n",
       "      <th>2013-01-04</th>\n",
       "      <td>-0.234764</td>\n",
       "      <td>1.042969</td>\n",
       "      <td>-0.159647</td>\n",
       "      <td>-0.438775</td>\n",
       "    </tr>\n",
       "    <tr>\n",
       "      <th>2013-01-05</th>\n",
       "      <td>0.060803</td>\n",
       "      <td>-0.207916</td>\n",
       "      <td>1.111743</td>\n",
       "      <td>-0.966972</td>\n",
       "    </tr>\n",
       "    <tr>\n",
       "      <th>2013-01-06</th>\n",
       "      <td>-1.008815</td>\n",
       "      <td>0.777257</td>\n",
       "      <td>0.470818</td>\n",
       "      <td>-1.840966</td>\n",
       "    </tr>\n",
       "  </tbody>\n",
       "</table>\n",
       "</div>"
      ],
      "text/plain": [
       "                   A         B         C         D\n",
       "2013-01-04 -0.234764  1.042969 -0.159647 -0.438775\n",
       "2013-01-05  0.060803 -0.207916  1.111743 -0.966972\n",
       "2013-01-06 -1.008815  0.777257  0.470818 -1.840966"
      ]
     },
     "execution_count": 8,
     "metadata": {},
     "output_type": "execute_result"
    }
   ],
   "source": [
    "df.tail(3)"
   ]
  },
  {
   "cell_type": "code",
   "execution_count": 9,
   "id": "c9fffe1a-2201-46e1-b683-1bff4d91810f",
   "metadata": {},
   "outputs": [
    {
     "data": {
      "text/plain": [
       "DatetimeIndex(['2013-01-01', '2013-01-02', '2013-01-03', '2013-01-04',\n",
       "               '2013-01-05', '2013-01-06'],\n",
       "              dtype='datetime64[ns]', freq='D')"
      ]
     },
     "execution_count": 9,
     "metadata": {},
     "output_type": "execute_result"
    }
   ],
   "source": [
    "# Display the DataFrame.index or DataFrame.columns:\n",
    "df.index"
   ]
  },
  {
   "cell_type": "code",
   "execution_count": 10,
   "id": "f707e1a9-c7d4-4a1d-b8cc-34588de0d4a6",
   "metadata": {},
   "outputs": [
    {
     "data": {
      "text/plain": [
       "Index(['A', 'B', 'C', 'D'], dtype='object')"
      ]
     },
     "execution_count": 10,
     "metadata": {},
     "output_type": "execute_result"
    }
   ],
   "source": [
    "df.columns"
   ]
  },
  {
   "cell_type": "code",
   "execution_count": 11,
   "id": "80820852-587e-4293-93aa-16f0062f96d7",
   "metadata": {},
   "outputs": [
    {
     "data": {
      "text/plain": [
       "array([[-0.56402419,  0.5922167 , -0.27449301,  1.34277912],\n",
       "       [-1.15580079,  1.1237899 ,  0.60850818, -0.62333362],\n",
       "       [-1.27355967, -0.37858289,  1.69230033, -1.16316182],\n",
       "       [-0.23476372,  1.04296907, -0.1596475 , -0.43877506],\n",
       "       [ 0.06080284, -0.20791558,  1.1117428 , -0.96697247],\n",
       "       [-1.0088147 ,  0.77725691,  0.47081753, -1.84096566]])"
      ]
     },
     "execution_count": 11,
     "metadata": {},
     "output_type": "execute_result"
    }
   ],
   "source": [
    "# Return a NumPy representation of the underlying data with DataFrame.to_numpy() without the index or column labels:\n",
    "df.to_numpy()"
   ]
  },
  {
   "cell_type": "markdown",
   "id": "2ce99bc5-a974-4a69-ba96-25ce896c0047",
   "metadata": {},
   "source": [
    "# Catatan\n",
    "Array NumPy memiliki satu dtype untuk seluruh array sedangkan pandas DataFrames memiliki satu dtype per kolom . Saat Anda memanggil DataFrame.to_numpy(), panda akan menemukan dtype NumPy yang dapat menampung semua dtype di DataFrame. Jika tipe data yang umum adalah object, DataFrame.to_numpy()akan memerlukan penyalinan data."
   ]
  },
  {
   "cell_type": "code",
   "execution_count": 12,
   "id": "6d2f644b-f4f3-4e29-870a-f7ef5183b729",
   "metadata": {},
   "outputs": [
    {
     "data": {
      "text/plain": [
       "A          float64\n",
       "B    datetime64[s]\n",
       "C          float32\n",
       "D            int32\n",
       "E         category\n",
       "F           object\n",
       "dtype: object"
      ]
     },
     "execution_count": 12,
     "metadata": {},
     "output_type": "execute_result"
    }
   ],
   "source": [
    "# contoh\n",
    "df2.dtypes"
   ]
  },
  {
   "cell_type": "code",
   "execution_count": 13,
   "id": "7e36f959-30f5-45d2-8f51-474f5ab73720",
   "metadata": {},
   "outputs": [
    {
     "data": {
      "text/plain": [
       "array([[1.0, Timestamp('2013-01-02 00:00:00'), 1.0, 3, 'test', 'foo'],\n",
       "       [1.0, Timestamp('2013-01-02 00:00:00'), 1.0, 3, 'train', 'foo'],\n",
       "       [1.0, Timestamp('2013-01-02 00:00:00'), 1.0, 3, 'test', 'foo'],\n",
       "       [1.0, Timestamp('2013-01-02 00:00:00'), 1.0, 3, 'train', 'foo']],\n",
       "      dtype=object)"
      ]
     },
     "execution_count": 13,
     "metadata": {},
     "output_type": "execute_result"
    }
   ],
   "source": [
    "# akan melakukan penyalinan data\n",
    "df2.to_numpy()"
   ]
  },
  {
   "cell_type": "code",
   "execution_count": 14,
   "id": "da3bb14c-5000-40b2-b3a0-4e4218c1b47e",
   "metadata": {},
   "outputs": [
    {
     "data": {
      "text/html": [
       "<div>\n",
       "<style scoped>\n",
       "    .dataframe tbody tr th:only-of-type {\n",
       "        vertical-align: middle;\n",
       "    }\n",
       "\n",
       "    .dataframe tbody tr th {\n",
       "        vertical-align: top;\n",
       "    }\n",
       "\n",
       "    .dataframe thead th {\n",
       "        text-align: right;\n",
       "    }\n",
       "</style>\n",
       "<table border=\"1\" class=\"dataframe\">\n",
       "  <thead>\n",
       "    <tr style=\"text-align: right;\">\n",
       "      <th></th>\n",
       "      <th>A</th>\n",
       "      <th>B</th>\n",
       "      <th>C</th>\n",
       "      <th>D</th>\n",
       "    </tr>\n",
       "  </thead>\n",
       "  <tbody>\n",
       "    <tr>\n",
       "      <th>count</th>\n",
       "      <td>6.000000</td>\n",
       "      <td>6.000000</td>\n",
       "      <td>6.000000</td>\n",
       "      <td>6.000000</td>\n",
       "    </tr>\n",
       "    <tr>\n",
       "      <th>mean</th>\n",
       "      <td>-0.696027</td>\n",
       "      <td>0.491622</td>\n",
       "      <td>0.574871</td>\n",
       "      <td>-0.615072</td>\n",
       "    </tr>\n",
       "    <tr>\n",
       "      <th>std</th>\n",
       "      <td>0.537727</td>\n",
       "      <td>0.639052</td>\n",
       "      <td>0.749637</td>\n",
       "      <td>1.076232</td>\n",
       "    </tr>\n",
       "    <tr>\n",
       "      <th>min</th>\n",
       "      <td>-1.273560</td>\n",
       "      <td>-0.378583</td>\n",
       "      <td>-0.274493</td>\n",
       "      <td>-1.840966</td>\n",
       "    </tr>\n",
       "    <tr>\n",
       "      <th>25%</th>\n",
       "      <td>-1.119054</td>\n",
       "      <td>-0.007883</td>\n",
       "      <td>-0.002031</td>\n",
       "      <td>-1.114114</td>\n",
       "    </tr>\n",
       "    <tr>\n",
       "      <th>50%</th>\n",
       "      <td>-0.786419</td>\n",
       "      <td>0.684737</td>\n",
       "      <td>0.539663</td>\n",
       "      <td>-0.795153</td>\n",
       "    </tr>\n",
       "    <tr>\n",
       "      <th>75%</th>\n",
       "      <td>-0.317079</td>\n",
       "      <td>0.976541</td>\n",
       "      <td>0.985934</td>\n",
       "      <td>-0.484915</td>\n",
       "    </tr>\n",
       "    <tr>\n",
       "      <th>max</th>\n",
       "      <td>0.060803</td>\n",
       "      <td>1.123790</td>\n",
       "      <td>1.692300</td>\n",
       "      <td>1.342779</td>\n",
       "    </tr>\n",
       "  </tbody>\n",
       "</table>\n",
       "</div>"
      ],
      "text/plain": [
       "              A         B         C         D\n",
       "count  6.000000  6.000000  6.000000  6.000000\n",
       "mean  -0.696027  0.491622  0.574871 -0.615072\n",
       "std    0.537727  0.639052  0.749637  1.076232\n",
       "min   -1.273560 -0.378583 -0.274493 -1.840966\n",
       "25%   -1.119054 -0.007883 -0.002031 -1.114114\n",
       "50%   -0.786419  0.684737  0.539663 -0.795153\n",
       "75%   -0.317079  0.976541  0.985934 -0.484915\n",
       "max    0.060803  1.123790  1.692300  1.342779"
      ]
     },
     "execution_count": 14,
     "metadata": {},
     "output_type": "execute_result"
    }
   ],
   "source": [
    "# describe()menunjukkan ringkasan statistik singkat data Anda:\n",
    "df.describe()"
   ]
  },
  {
   "cell_type": "code",
   "execution_count": 15,
   "id": "c941cf90-b3ce-46cb-8276-1c47e0e021ff",
   "metadata": {},
   "outputs": [
    {
     "data": {
      "text/html": [
       "<div>\n",
       "<style scoped>\n",
       "    .dataframe tbody tr th:only-of-type {\n",
       "        vertical-align: middle;\n",
       "    }\n",
       "\n",
       "    .dataframe tbody tr th {\n",
       "        vertical-align: top;\n",
       "    }\n",
       "\n",
       "    .dataframe thead th {\n",
       "        text-align: right;\n",
       "    }\n",
       "</style>\n",
       "<table border=\"1\" class=\"dataframe\">\n",
       "  <thead>\n",
       "    <tr style=\"text-align: right;\">\n",
       "      <th></th>\n",
       "      <th>2013-01-01</th>\n",
       "      <th>2013-01-02</th>\n",
       "      <th>2013-01-03</th>\n",
       "      <th>2013-01-04</th>\n",
       "      <th>2013-01-05</th>\n",
       "      <th>2013-01-06</th>\n",
       "    </tr>\n",
       "  </thead>\n",
       "  <tbody>\n",
       "    <tr>\n",
       "      <th>A</th>\n",
       "      <td>-0.564024</td>\n",
       "      <td>-1.155801</td>\n",
       "      <td>-1.273560</td>\n",
       "      <td>-0.234764</td>\n",
       "      <td>0.060803</td>\n",
       "      <td>-1.008815</td>\n",
       "    </tr>\n",
       "    <tr>\n",
       "      <th>B</th>\n",
       "      <td>0.592217</td>\n",
       "      <td>1.123790</td>\n",
       "      <td>-0.378583</td>\n",
       "      <td>1.042969</td>\n",
       "      <td>-0.207916</td>\n",
       "      <td>0.777257</td>\n",
       "    </tr>\n",
       "    <tr>\n",
       "      <th>C</th>\n",
       "      <td>-0.274493</td>\n",
       "      <td>0.608508</td>\n",
       "      <td>1.692300</td>\n",
       "      <td>-0.159647</td>\n",
       "      <td>1.111743</td>\n",
       "      <td>0.470818</td>\n",
       "    </tr>\n",
       "    <tr>\n",
       "      <th>D</th>\n",
       "      <td>1.342779</td>\n",
       "      <td>-0.623334</td>\n",
       "      <td>-1.163162</td>\n",
       "      <td>-0.438775</td>\n",
       "      <td>-0.966972</td>\n",
       "      <td>-1.840966</td>\n",
       "    </tr>\n",
       "  </tbody>\n",
       "</table>\n",
       "</div>"
      ],
      "text/plain": [
       "   2013-01-01  2013-01-02  2013-01-03  2013-01-04  2013-01-05  2013-01-06\n",
       "A   -0.564024   -1.155801   -1.273560   -0.234764    0.060803   -1.008815\n",
       "B    0.592217    1.123790   -0.378583    1.042969   -0.207916    0.777257\n",
       "C   -0.274493    0.608508    1.692300   -0.159647    1.111743    0.470818\n",
       "D    1.342779   -0.623334   -1.163162   -0.438775   -0.966972   -1.840966"
      ]
     },
     "execution_count": 15,
     "metadata": {},
     "output_type": "execute_result"
    }
   ],
   "source": [
    "# Transposisi data Anda:\n",
    "df.T"
   ]
  },
  {
   "cell_type": "code",
   "execution_count": 16,
   "id": "ab3270cb-0091-4de5-852c-654f5ce60a16",
   "metadata": {},
   "outputs": [
    {
     "data": {
      "text/html": [
       "<div>\n",
       "<style scoped>\n",
       "    .dataframe tbody tr th:only-of-type {\n",
       "        vertical-align: middle;\n",
       "    }\n",
       "\n",
       "    .dataframe tbody tr th {\n",
       "        vertical-align: top;\n",
       "    }\n",
       "\n",
       "    .dataframe thead th {\n",
       "        text-align: right;\n",
       "    }\n",
       "</style>\n",
       "<table border=\"1\" class=\"dataframe\">\n",
       "  <thead>\n",
       "    <tr style=\"text-align: right;\">\n",
       "      <th></th>\n",
       "      <th>D</th>\n",
       "      <th>C</th>\n",
       "      <th>B</th>\n",
       "      <th>A</th>\n",
       "    </tr>\n",
       "  </thead>\n",
       "  <tbody>\n",
       "    <tr>\n",
       "      <th>2013-01-01</th>\n",
       "      <td>1.342779</td>\n",
       "      <td>-0.274493</td>\n",
       "      <td>0.592217</td>\n",
       "      <td>-0.564024</td>\n",
       "    </tr>\n",
       "    <tr>\n",
       "      <th>2013-01-02</th>\n",
       "      <td>-0.623334</td>\n",
       "      <td>0.608508</td>\n",
       "      <td>1.123790</td>\n",
       "      <td>-1.155801</td>\n",
       "    </tr>\n",
       "    <tr>\n",
       "      <th>2013-01-03</th>\n",
       "      <td>-1.163162</td>\n",
       "      <td>1.692300</td>\n",
       "      <td>-0.378583</td>\n",
       "      <td>-1.273560</td>\n",
       "    </tr>\n",
       "    <tr>\n",
       "      <th>2013-01-04</th>\n",
       "      <td>-0.438775</td>\n",
       "      <td>-0.159647</td>\n",
       "      <td>1.042969</td>\n",
       "      <td>-0.234764</td>\n",
       "    </tr>\n",
       "    <tr>\n",
       "      <th>2013-01-05</th>\n",
       "      <td>-0.966972</td>\n",
       "      <td>1.111743</td>\n",
       "      <td>-0.207916</td>\n",
       "      <td>0.060803</td>\n",
       "    </tr>\n",
       "    <tr>\n",
       "      <th>2013-01-06</th>\n",
       "      <td>-1.840966</td>\n",
       "      <td>0.470818</td>\n",
       "      <td>0.777257</td>\n",
       "      <td>-1.008815</td>\n",
       "    </tr>\n",
       "  </tbody>\n",
       "</table>\n",
       "</div>"
      ],
      "text/plain": [
       "                   D         C         B         A\n",
       "2013-01-01  1.342779 -0.274493  0.592217 -0.564024\n",
       "2013-01-02 -0.623334  0.608508  1.123790 -1.155801\n",
       "2013-01-03 -1.163162  1.692300 -0.378583 -1.273560\n",
       "2013-01-04 -0.438775 -0.159647  1.042969 -0.234764\n",
       "2013-01-05 -0.966972  1.111743 -0.207916  0.060803\n",
       "2013-01-06 -1.840966  0.470818  0.777257 -1.008815"
      ]
     },
     "execution_count": 16,
     "metadata": {},
     "output_type": "execute_result"
    }
   ],
   "source": [
    "# DataFrame.sort_index()mengurutkan berdasarkan axis:\n",
    "df.sort_index(axis=1, ascending=False)"
   ]
  },
  {
   "cell_type": "code",
   "execution_count": 17,
   "id": "4d1272f4-8293-4056-95e4-740b42be8320",
   "metadata": {},
   "outputs": [
    {
     "data": {
      "text/html": [
       "<div>\n",
       "<style scoped>\n",
       "    .dataframe tbody tr th:only-of-type {\n",
       "        vertical-align: middle;\n",
       "    }\n",
       "\n",
       "    .dataframe tbody tr th {\n",
       "        vertical-align: top;\n",
       "    }\n",
       "\n",
       "    .dataframe thead th {\n",
       "        text-align: right;\n",
       "    }\n",
       "</style>\n",
       "<table border=\"1\" class=\"dataframe\">\n",
       "  <thead>\n",
       "    <tr style=\"text-align: right;\">\n",
       "      <th></th>\n",
       "      <th>A</th>\n",
       "      <th>B</th>\n",
       "      <th>C</th>\n",
       "      <th>D</th>\n",
       "    </tr>\n",
       "  </thead>\n",
       "  <tbody>\n",
       "    <tr>\n",
       "      <th>2013-01-03</th>\n",
       "      <td>-1.273560</td>\n",
       "      <td>-0.378583</td>\n",
       "      <td>1.692300</td>\n",
       "      <td>-1.163162</td>\n",
       "    </tr>\n",
       "    <tr>\n",
       "      <th>2013-01-05</th>\n",
       "      <td>0.060803</td>\n",
       "      <td>-0.207916</td>\n",
       "      <td>1.111743</td>\n",
       "      <td>-0.966972</td>\n",
       "    </tr>\n",
       "    <tr>\n",
       "      <th>2013-01-01</th>\n",
       "      <td>-0.564024</td>\n",
       "      <td>0.592217</td>\n",
       "      <td>-0.274493</td>\n",
       "      <td>1.342779</td>\n",
       "    </tr>\n",
       "    <tr>\n",
       "      <th>2013-01-06</th>\n",
       "      <td>-1.008815</td>\n",
       "      <td>0.777257</td>\n",
       "      <td>0.470818</td>\n",
       "      <td>-1.840966</td>\n",
       "    </tr>\n",
       "    <tr>\n",
       "      <th>2013-01-04</th>\n",
       "      <td>-0.234764</td>\n",
       "      <td>1.042969</td>\n",
       "      <td>-0.159647</td>\n",
       "      <td>-0.438775</td>\n",
       "    </tr>\n",
       "    <tr>\n",
       "      <th>2013-01-02</th>\n",
       "      <td>-1.155801</td>\n",
       "      <td>1.123790</td>\n",
       "      <td>0.608508</td>\n",
       "      <td>-0.623334</td>\n",
       "    </tr>\n",
       "  </tbody>\n",
       "</table>\n",
       "</div>"
      ],
      "text/plain": [
       "                   A         B         C         D\n",
       "2013-01-03 -1.273560 -0.378583  1.692300 -1.163162\n",
       "2013-01-05  0.060803 -0.207916  1.111743 -0.966972\n",
       "2013-01-01 -0.564024  0.592217 -0.274493  1.342779\n",
       "2013-01-06 -1.008815  0.777257  0.470818 -1.840966\n",
       "2013-01-04 -0.234764  1.042969 -0.159647 -0.438775\n",
       "2013-01-02 -1.155801  1.123790  0.608508 -0.623334"
      ]
     },
     "execution_count": 17,
     "metadata": {},
     "output_type": "execute_result"
    }
   ],
   "source": [
    "# DataFrame.sort_values() sorts by values:\n",
    "df.sort_values(by=\"B\")"
   ]
  },
  {
   "cell_type": "markdown",
   "id": "3a6a2c8c-7d20-4ee7-aa34-fb3a30c908a2",
   "metadata": {},
   "source": [
    "# Selection\n",
    "Meskipun ekspresi standar Python/NumPy untuk pemilihan dan pengaturan bersifat intuitif dan berguna untuk pekerjaan interaktif, untuk kode produksi, kami merekomendasikan metode akses data pandas yang dioptimalkan, DataFrame.at(), DataFrame.iat(), DataFrame.loc()dan DataFrame.iloc()."
   ]
  },
  {
   "cell_type": "code",
   "execution_count": 18,
   "id": "2c941ca5-55ba-4274-b4a3-23a20d159ba9",
   "metadata": {},
   "outputs": [
    {
     "data": {
      "text/plain": [
       "2013-01-01   -0.564024\n",
       "2013-01-02   -1.155801\n",
       "2013-01-03   -1.273560\n",
       "2013-01-04   -0.234764\n",
       "2013-01-05    0.060803\n",
       "2013-01-06   -1.008815\n",
       "Freq: D, Name: A, dtype: float64"
      ]
     },
     "execution_count": 18,
     "metadata": {},
     "output_type": "execute_result"
    }
   ],
   "source": [
    "# Getitem([])\n",
    "# For a DataFrame, passing a single label selects a columns and yields a Series equivalent to df.A:\n",
    "df[\"A\"]"
   ]
  },
  {
   "cell_type": "code",
   "execution_count": 19,
   "id": "c8c9c913-d194-40d7-b4bf-5f800e02a5ee",
   "metadata": {},
   "outputs": [
    {
     "data": {
      "text/html": [
       "<div>\n",
       "<style scoped>\n",
       "    .dataframe tbody tr th:only-of-type {\n",
       "        vertical-align: middle;\n",
       "    }\n",
       "\n",
       "    .dataframe tbody tr th {\n",
       "        vertical-align: top;\n",
       "    }\n",
       "\n",
       "    .dataframe thead th {\n",
       "        text-align: right;\n",
       "    }\n",
       "</style>\n",
       "<table border=\"1\" class=\"dataframe\">\n",
       "  <thead>\n",
       "    <tr style=\"text-align: right;\">\n",
       "      <th></th>\n",
       "      <th>A</th>\n",
       "      <th>B</th>\n",
       "      <th>C</th>\n",
       "      <th>D</th>\n",
       "    </tr>\n",
       "  </thead>\n",
       "  <tbody>\n",
       "    <tr>\n",
       "      <th>2013-01-01</th>\n",
       "      <td>-0.564024</td>\n",
       "      <td>0.592217</td>\n",
       "      <td>-0.274493</td>\n",
       "      <td>1.342779</td>\n",
       "    </tr>\n",
       "    <tr>\n",
       "      <th>2013-01-02</th>\n",
       "      <td>-1.155801</td>\n",
       "      <td>1.123790</td>\n",
       "      <td>0.608508</td>\n",
       "      <td>-0.623334</td>\n",
       "    </tr>\n",
       "    <tr>\n",
       "      <th>2013-01-03</th>\n",
       "      <td>-1.273560</td>\n",
       "      <td>-0.378583</td>\n",
       "      <td>1.692300</td>\n",
       "      <td>-1.163162</td>\n",
       "    </tr>\n",
       "  </tbody>\n",
       "</table>\n",
       "</div>"
      ],
      "text/plain": [
       "                   A         B         C         D\n",
       "2013-01-01 -0.564024  0.592217 -0.274493  1.342779\n",
       "2013-01-02 -1.155801  1.123790  0.608508 -0.623334\n",
       "2013-01-03 -1.273560 -0.378583  1.692300 -1.163162"
      ]
     },
     "execution_count": 19,
     "metadata": {},
     "output_type": "execute_result"
    }
   ],
   "source": [
    "# For a DataFrame, passing a slice : selects matching rows:\n",
    "df[0:3]"
   ]
  },
  {
   "cell_type": "code",
   "execution_count": 20,
   "id": "87700fbf-3381-430f-87a1-f84c587e9cb6",
   "metadata": {},
   "outputs": [
    {
     "data": {
      "text/html": [
       "<div>\n",
       "<style scoped>\n",
       "    .dataframe tbody tr th:only-of-type {\n",
       "        vertical-align: middle;\n",
       "    }\n",
       "\n",
       "    .dataframe tbody tr th {\n",
       "        vertical-align: top;\n",
       "    }\n",
       "\n",
       "    .dataframe thead th {\n",
       "        text-align: right;\n",
       "    }\n",
       "</style>\n",
       "<table border=\"1\" class=\"dataframe\">\n",
       "  <thead>\n",
       "    <tr style=\"text-align: right;\">\n",
       "      <th></th>\n",
       "      <th>A</th>\n",
       "      <th>B</th>\n",
       "      <th>C</th>\n",
       "      <th>D</th>\n",
       "    </tr>\n",
       "  </thead>\n",
       "  <tbody>\n",
       "    <tr>\n",
       "      <th>2013-01-02</th>\n",
       "      <td>-1.155801</td>\n",
       "      <td>1.123790</td>\n",
       "      <td>0.608508</td>\n",
       "      <td>-0.623334</td>\n",
       "    </tr>\n",
       "    <tr>\n",
       "      <th>2013-01-03</th>\n",
       "      <td>-1.273560</td>\n",
       "      <td>-0.378583</td>\n",
       "      <td>1.692300</td>\n",
       "      <td>-1.163162</td>\n",
       "    </tr>\n",
       "    <tr>\n",
       "      <th>2013-01-04</th>\n",
       "      <td>-0.234764</td>\n",
       "      <td>1.042969</td>\n",
       "      <td>-0.159647</td>\n",
       "      <td>-0.438775</td>\n",
       "    </tr>\n",
       "  </tbody>\n",
       "</table>\n",
       "</div>"
      ],
      "text/plain": [
       "                   A         B         C         D\n",
       "2013-01-02 -1.155801  1.123790  0.608508 -0.623334\n",
       "2013-01-03 -1.273560 -0.378583  1.692300 -1.163162\n",
       "2013-01-04 -0.234764  1.042969 -0.159647 -0.438775"
      ]
     },
     "execution_count": 20,
     "metadata": {},
     "output_type": "execute_result"
    }
   ],
   "source": [
    "# contoh lainnya\n",
    "df[\"20130102\":\"20130104\"]"
   ]
  },
  {
   "cell_type": "markdown",
   "id": "8c755e2b-7b10-4880-b85a-959c20018fec",
   "metadata": {},
   "source": [
    "# Selection by label\n",
    "\n",
    "See more in Selection by Label using DataFrame.loc() or DataFrame.at().\r\n",
    "\r\n",
    "Selecting a row matching a label:"
   ]
  },
  {
   "cell_type": "code",
   "execution_count": 21,
   "id": "c98c5ab4-e223-4010-9c50-dac02d68cbac",
   "metadata": {},
   "outputs": [
    {
     "data": {
      "text/plain": [
       "A   -0.564024\n",
       "B    0.592217\n",
       "C   -0.274493\n",
       "D    1.342779\n",
       "Name: 2013-01-01 00:00:00, dtype: float64"
      ]
     },
     "execution_count": 21,
     "metadata": {},
     "output_type": "execute_result"
    }
   ],
   "source": [
    "df.loc[dates[0]]"
   ]
  },
  {
   "cell_type": "code",
   "execution_count": 22,
   "id": "2df02cd7-d136-4a56-8f7c-abda73e3d585",
   "metadata": {},
   "outputs": [
    {
     "data": {
      "text/html": [
       "<div>\n",
       "<style scoped>\n",
       "    .dataframe tbody tr th:only-of-type {\n",
       "        vertical-align: middle;\n",
       "    }\n",
       "\n",
       "    .dataframe tbody tr th {\n",
       "        vertical-align: top;\n",
       "    }\n",
       "\n",
       "    .dataframe thead th {\n",
       "        text-align: right;\n",
       "    }\n",
       "</style>\n",
       "<table border=\"1\" class=\"dataframe\">\n",
       "  <thead>\n",
       "    <tr style=\"text-align: right;\">\n",
       "      <th></th>\n",
       "      <th>A</th>\n",
       "      <th>B</th>\n",
       "    </tr>\n",
       "  </thead>\n",
       "  <tbody>\n",
       "    <tr>\n",
       "      <th>2013-01-01</th>\n",
       "      <td>-0.564024</td>\n",
       "      <td>0.592217</td>\n",
       "    </tr>\n",
       "    <tr>\n",
       "      <th>2013-01-02</th>\n",
       "      <td>-1.155801</td>\n",
       "      <td>1.123790</td>\n",
       "    </tr>\n",
       "    <tr>\n",
       "      <th>2013-01-03</th>\n",
       "      <td>-1.273560</td>\n",
       "      <td>-0.378583</td>\n",
       "    </tr>\n",
       "    <tr>\n",
       "      <th>2013-01-04</th>\n",
       "      <td>-0.234764</td>\n",
       "      <td>1.042969</td>\n",
       "    </tr>\n",
       "    <tr>\n",
       "      <th>2013-01-05</th>\n",
       "      <td>0.060803</td>\n",
       "      <td>-0.207916</td>\n",
       "    </tr>\n",
       "    <tr>\n",
       "      <th>2013-01-06</th>\n",
       "      <td>-1.008815</td>\n",
       "      <td>0.777257</td>\n",
       "    </tr>\n",
       "  </tbody>\n",
       "</table>\n",
       "</div>"
      ],
      "text/plain": [
       "                   A         B\n",
       "2013-01-01 -0.564024  0.592217\n",
       "2013-01-02 -1.155801  1.123790\n",
       "2013-01-03 -1.273560 -0.378583\n",
       "2013-01-04 -0.234764  1.042969\n",
       "2013-01-05  0.060803 -0.207916\n",
       "2013-01-06 -1.008815  0.777257"
      ]
     },
     "execution_count": 22,
     "metadata": {},
     "output_type": "execute_result"
    }
   ],
   "source": [
    "df.loc[:,[\"A\", \"B\"]]"
   ]
  },
  {
   "cell_type": "code",
   "execution_count": 23,
   "id": "90b4788c-0fe8-44ec-8c59-c569be1ad50e",
   "metadata": {},
   "outputs": [
    {
     "data": {
      "text/html": [
       "<div>\n",
       "<style scoped>\n",
       "    .dataframe tbody tr th:only-of-type {\n",
       "        vertical-align: middle;\n",
       "    }\n",
       "\n",
       "    .dataframe tbody tr th {\n",
       "        vertical-align: top;\n",
       "    }\n",
       "\n",
       "    .dataframe thead th {\n",
       "        text-align: right;\n",
       "    }\n",
       "</style>\n",
       "<table border=\"1\" class=\"dataframe\">\n",
       "  <thead>\n",
       "    <tr style=\"text-align: right;\">\n",
       "      <th></th>\n",
       "      <th>A</th>\n",
       "      <th>B</th>\n",
       "    </tr>\n",
       "  </thead>\n",
       "  <tbody>\n",
       "    <tr>\n",
       "      <th>2013-01-02</th>\n",
       "      <td>-1.155801</td>\n",
       "      <td>1.123790</td>\n",
       "    </tr>\n",
       "    <tr>\n",
       "      <th>2013-01-03</th>\n",
       "      <td>-1.273560</td>\n",
       "      <td>-0.378583</td>\n",
       "    </tr>\n",
       "    <tr>\n",
       "      <th>2013-01-04</th>\n",
       "      <td>-0.234764</td>\n",
       "      <td>1.042969</td>\n",
       "    </tr>\n",
       "  </tbody>\n",
       "</table>\n",
       "</div>"
      ],
      "text/plain": [
       "                   A         B\n",
       "2013-01-02 -1.155801  1.123790\n",
       "2013-01-03 -1.273560 -0.378583\n",
       "2013-01-04 -0.234764  1.042969"
      ]
     },
     "execution_count": 23,
     "metadata": {},
     "output_type": "execute_result"
    }
   ],
   "source": [
    "df.loc[\"20130102\":\"20130104\", [\"A\",\"B\"]]"
   ]
  },
  {
   "cell_type": "code",
   "execution_count": 24,
   "id": "c55ff350-53e7-45e2-8032-84de68563a54",
   "metadata": {},
   "outputs": [
    {
     "data": {
      "text/plain": [
       "A   -0.564024\n",
       "Name: 2013-01-01 00:00:00, dtype: float64"
      ]
     },
     "execution_count": 24,
     "metadata": {},
     "output_type": "execute_result"
    }
   ],
   "source": [
    "df.loc[dates[0],[\"A\"]]"
   ]
  },
  {
   "cell_type": "markdown",
   "id": "799944a9-d25c-4e69-9aeb-8a5509bd8770",
   "metadata": {},
   "source": [
    "## Selection by position\n",
    "See more in Selection by Position using DataFrame.iloc() or DataFrame.iat().\n",
    "\n",
    "Select via the position of the passed integers:"
   ]
  },
  {
   "cell_type": "code",
   "execution_count": 25,
   "id": "af570bfb-f480-4cc5-9479-2a6fa1d02445",
   "metadata": {},
   "outputs": [
    {
     "data": {
      "text/plain": [
       "A   -0.234764\n",
       "B    1.042969\n",
       "C   -0.159647\n",
       "D   -0.438775\n",
       "Name: 2013-01-04 00:00:00, dtype: float64"
      ]
     },
     "execution_count": 25,
     "metadata": {},
     "output_type": "execute_result"
    }
   ],
   "source": [
    "df.iloc[3]"
   ]
  },
  {
   "cell_type": "code",
   "execution_count": 26,
   "id": "36df44a5-8385-43de-ae36-41215e5ad002",
   "metadata": {},
   "outputs": [
    {
     "data": {
      "text/html": [
       "<div>\n",
       "<style scoped>\n",
       "    .dataframe tbody tr th:only-of-type {\n",
       "        vertical-align: middle;\n",
       "    }\n",
       "\n",
       "    .dataframe tbody tr th {\n",
       "        vertical-align: top;\n",
       "    }\n",
       "\n",
       "    .dataframe thead th {\n",
       "        text-align: right;\n",
       "    }\n",
       "</style>\n",
       "<table border=\"1\" class=\"dataframe\">\n",
       "  <thead>\n",
       "    <tr style=\"text-align: right;\">\n",
       "      <th></th>\n",
       "      <th>A</th>\n",
       "      <th>B</th>\n",
       "    </tr>\n",
       "  </thead>\n",
       "  <tbody>\n",
       "    <tr>\n",
       "      <th>2013-01-04</th>\n",
       "      <td>-0.234764</td>\n",
       "      <td>1.042969</td>\n",
       "    </tr>\n",
       "    <tr>\n",
       "      <th>2013-01-05</th>\n",
       "      <td>0.060803</td>\n",
       "      <td>-0.207916</td>\n",
       "    </tr>\n",
       "  </tbody>\n",
       "</table>\n",
       "</div>"
      ],
      "text/plain": [
       "                   A         B\n",
       "2013-01-04 -0.234764  1.042969\n",
       "2013-01-05  0.060803 -0.207916"
      ]
     },
     "execution_count": 26,
     "metadata": {},
     "output_type": "execute_result"
    }
   ],
   "source": [
    "# Integer slices acts similar to NumPy/Python:\n",
    "df.iloc[3:5, 0:2]"
   ]
  },
  {
   "cell_type": "code",
   "execution_count": 27,
   "id": "e6f13135-766b-40ae-8c58-0eb5088709cd",
   "metadata": {},
   "outputs": [
    {
     "data": {
      "text/html": [
       "<div>\n",
       "<style scoped>\n",
       "    .dataframe tbody tr th:only-of-type {\n",
       "        vertical-align: middle;\n",
       "    }\n",
       "\n",
       "    .dataframe tbody tr th {\n",
       "        vertical-align: top;\n",
       "    }\n",
       "\n",
       "    .dataframe thead th {\n",
       "        text-align: right;\n",
       "    }\n",
       "</style>\n",
       "<table border=\"1\" class=\"dataframe\">\n",
       "  <thead>\n",
       "    <tr style=\"text-align: right;\">\n",
       "      <th></th>\n",
       "      <th>A</th>\n",
       "      <th>C</th>\n",
       "    </tr>\n",
       "  </thead>\n",
       "  <tbody>\n",
       "    <tr>\n",
       "      <th>2013-01-02</th>\n",
       "      <td>-1.155801</td>\n",
       "      <td>0.608508</td>\n",
       "    </tr>\n",
       "    <tr>\n",
       "      <th>2013-01-03</th>\n",
       "      <td>-1.273560</td>\n",
       "      <td>1.692300</td>\n",
       "    </tr>\n",
       "    <tr>\n",
       "      <th>2013-01-05</th>\n",
       "      <td>0.060803</td>\n",
       "      <td>1.111743</td>\n",
       "    </tr>\n",
       "  </tbody>\n",
       "</table>\n",
       "</div>"
      ],
      "text/plain": [
       "                   A         C\n",
       "2013-01-02 -1.155801  0.608508\n",
       "2013-01-03 -1.273560  1.692300\n",
       "2013-01-05  0.060803  1.111743"
      ]
     },
     "execution_count": 27,
     "metadata": {},
     "output_type": "execute_result"
    }
   ],
   "source": [
    "# Lists of integer position locations:\n",
    "df.iloc[[1,2,4],[0, 2]]"
   ]
  },
  {
   "cell_type": "code",
   "execution_count": 28,
   "id": "115581ef-1a60-4110-a271-9bec053ca231",
   "metadata": {},
   "outputs": [
    {
     "data": {
      "text/html": [
       "<div>\n",
       "<style scoped>\n",
       "    .dataframe tbody tr th:only-of-type {\n",
       "        vertical-align: middle;\n",
       "    }\n",
       "\n",
       "    .dataframe tbody tr th {\n",
       "        vertical-align: top;\n",
       "    }\n",
       "\n",
       "    .dataframe thead th {\n",
       "        text-align: right;\n",
       "    }\n",
       "</style>\n",
       "<table border=\"1\" class=\"dataframe\">\n",
       "  <thead>\n",
       "    <tr style=\"text-align: right;\">\n",
       "      <th></th>\n",
       "      <th>A</th>\n",
       "      <th>B</th>\n",
       "      <th>C</th>\n",
       "      <th>D</th>\n",
       "    </tr>\n",
       "  </thead>\n",
       "  <tbody>\n",
       "    <tr>\n",
       "      <th>2013-01-02</th>\n",
       "      <td>-1.155801</td>\n",
       "      <td>1.123790</td>\n",
       "      <td>0.608508</td>\n",
       "      <td>-0.623334</td>\n",
       "    </tr>\n",
       "    <tr>\n",
       "      <th>2013-01-03</th>\n",
       "      <td>-1.273560</td>\n",
       "      <td>-0.378583</td>\n",
       "      <td>1.692300</td>\n",
       "      <td>-1.163162</td>\n",
       "    </tr>\n",
       "  </tbody>\n",
       "</table>\n",
       "</div>"
      ],
      "text/plain": [
       "                   A         B         C         D\n",
       "2013-01-02 -1.155801  1.123790  0.608508 -0.623334\n",
       "2013-01-03 -1.273560 -0.378583  1.692300 -1.163162"
      ]
     },
     "execution_count": 28,
     "metadata": {},
     "output_type": "execute_result"
    }
   ],
   "source": [
    "# For slicing rows explicitly:\n",
    "df.iloc[1:3, :]"
   ]
  },
  {
   "cell_type": "code",
   "execution_count": 29,
   "id": "a1488516-f5c7-41f8-b813-ab04c9849215",
   "metadata": {},
   "outputs": [
    {
     "data": {
      "text/html": [
       "<div>\n",
       "<style scoped>\n",
       "    .dataframe tbody tr th:only-of-type {\n",
       "        vertical-align: middle;\n",
       "    }\n",
       "\n",
       "    .dataframe tbody tr th {\n",
       "        vertical-align: top;\n",
       "    }\n",
       "\n",
       "    .dataframe thead th {\n",
       "        text-align: right;\n",
       "    }\n",
       "</style>\n",
       "<table border=\"1\" class=\"dataframe\">\n",
       "  <thead>\n",
       "    <tr style=\"text-align: right;\">\n",
       "      <th></th>\n",
       "      <th>B</th>\n",
       "      <th>C</th>\n",
       "    </tr>\n",
       "  </thead>\n",
       "  <tbody>\n",
       "    <tr>\n",
       "      <th>2013-01-01</th>\n",
       "      <td>0.592217</td>\n",
       "      <td>-0.274493</td>\n",
       "    </tr>\n",
       "    <tr>\n",
       "      <th>2013-01-02</th>\n",
       "      <td>1.123790</td>\n",
       "      <td>0.608508</td>\n",
       "    </tr>\n",
       "    <tr>\n",
       "      <th>2013-01-03</th>\n",
       "      <td>-0.378583</td>\n",
       "      <td>1.692300</td>\n",
       "    </tr>\n",
       "    <tr>\n",
       "      <th>2013-01-04</th>\n",
       "      <td>1.042969</td>\n",
       "      <td>-0.159647</td>\n",
       "    </tr>\n",
       "    <tr>\n",
       "      <th>2013-01-05</th>\n",
       "      <td>-0.207916</td>\n",
       "      <td>1.111743</td>\n",
       "    </tr>\n",
       "    <tr>\n",
       "      <th>2013-01-06</th>\n",
       "      <td>0.777257</td>\n",
       "      <td>0.470818</td>\n",
       "    </tr>\n",
       "  </tbody>\n",
       "</table>\n",
       "</div>"
      ],
      "text/plain": [
       "                   B         C\n",
       "2013-01-01  0.592217 -0.274493\n",
       "2013-01-02  1.123790  0.608508\n",
       "2013-01-03 -0.378583  1.692300\n",
       "2013-01-04  1.042969 -0.159647\n",
       "2013-01-05 -0.207916  1.111743\n",
       "2013-01-06  0.777257  0.470818"
      ]
     },
     "execution_count": 29,
     "metadata": {},
     "output_type": "execute_result"
    }
   ],
   "source": [
    "# For slicing columns explicitly:\n",
    "df.iloc[:, 1:3]"
   ]
  },
  {
   "cell_type": "code",
   "execution_count": 30,
   "id": "8b115368-52c7-474f-a4f1-7d717346b3a3",
   "metadata": {},
   "outputs": [
    {
     "data": {
      "text/plain": [
       "1.1237899024895877"
      ]
     },
     "execution_count": 30,
     "metadata": {},
     "output_type": "execute_result"
    }
   ],
   "source": [
    "# For getting fast access to a scalar (equivalent to the prior method):\n",
    "df.iat[1,1]"
   ]
  },
  {
   "cell_type": "markdown",
   "id": "88cdc4d3-0d99-442b-9a59-edac3911c10a",
   "metadata": {},
   "source": [
    "## Boolean indexing\n",
    "\n",
    "Select rows where df.A is greater than 0."
   ]
  },
  {
   "cell_type": "code",
   "execution_count": 32,
   "id": "790a4613-45af-4867-a1f1-111fd4af949c",
   "metadata": {},
   "outputs": [
    {
     "data": {
      "text/html": [
       "<div>\n",
       "<style scoped>\n",
       "    .dataframe tbody tr th:only-of-type {\n",
       "        vertical-align: middle;\n",
       "    }\n",
       "\n",
       "    .dataframe tbody tr th {\n",
       "        vertical-align: top;\n",
       "    }\n",
       "\n",
       "    .dataframe thead th {\n",
       "        text-align: right;\n",
       "    }\n",
       "</style>\n",
       "<table border=\"1\" class=\"dataframe\">\n",
       "  <thead>\n",
       "    <tr style=\"text-align: right;\">\n",
       "      <th></th>\n",
       "      <th>A</th>\n",
       "      <th>B</th>\n",
       "      <th>C</th>\n",
       "      <th>D</th>\n",
       "    </tr>\n",
       "  </thead>\n",
       "  <tbody>\n",
       "    <tr>\n",
       "      <th>2013-01-05</th>\n",
       "      <td>0.060803</td>\n",
       "      <td>-0.207916</td>\n",
       "      <td>1.111743</td>\n",
       "      <td>-0.966972</td>\n",
       "    </tr>\n",
       "  </tbody>\n",
       "</table>\n",
       "</div>"
      ],
      "text/plain": [
       "                   A         B         C         D\n",
       "2013-01-05  0.060803 -0.207916  1.111743 -0.966972"
      ]
     },
     "execution_count": 32,
     "metadata": {},
     "output_type": "execute_result"
    }
   ],
   "source": [
    "df[df[\"A\"] > 0]"
   ]
  },
  {
   "cell_type": "code",
   "execution_count": 33,
   "id": "bbaee0bf-1e64-4bd4-b974-95f2ea062219",
   "metadata": {},
   "outputs": [
    {
     "data": {
      "text/html": [
       "<div>\n",
       "<style scoped>\n",
       "    .dataframe tbody tr th:only-of-type {\n",
       "        vertical-align: middle;\n",
       "    }\n",
       "\n",
       "    .dataframe tbody tr th {\n",
       "        vertical-align: top;\n",
       "    }\n",
       "\n",
       "    .dataframe thead th {\n",
       "        text-align: right;\n",
       "    }\n",
       "</style>\n",
       "<table border=\"1\" class=\"dataframe\">\n",
       "  <thead>\n",
       "    <tr style=\"text-align: right;\">\n",
       "      <th></th>\n",
       "      <th>A</th>\n",
       "      <th>B</th>\n",
       "      <th>C</th>\n",
       "      <th>D</th>\n",
       "    </tr>\n",
       "  </thead>\n",
       "  <tbody>\n",
       "    <tr>\n",
       "      <th>2013-01-01</th>\n",
       "      <td>NaN</td>\n",
       "      <td>0.592217</td>\n",
       "      <td>NaN</td>\n",
       "      <td>1.342779</td>\n",
       "    </tr>\n",
       "    <tr>\n",
       "      <th>2013-01-02</th>\n",
       "      <td>NaN</td>\n",
       "      <td>1.123790</td>\n",
       "      <td>0.608508</td>\n",
       "      <td>NaN</td>\n",
       "    </tr>\n",
       "    <tr>\n",
       "      <th>2013-01-03</th>\n",
       "      <td>NaN</td>\n",
       "      <td>NaN</td>\n",
       "      <td>1.692300</td>\n",
       "      <td>NaN</td>\n",
       "    </tr>\n",
       "    <tr>\n",
       "      <th>2013-01-04</th>\n",
       "      <td>NaN</td>\n",
       "      <td>1.042969</td>\n",
       "      <td>NaN</td>\n",
       "      <td>NaN</td>\n",
       "    </tr>\n",
       "    <tr>\n",
       "      <th>2013-01-05</th>\n",
       "      <td>0.060803</td>\n",
       "      <td>NaN</td>\n",
       "      <td>1.111743</td>\n",
       "      <td>NaN</td>\n",
       "    </tr>\n",
       "    <tr>\n",
       "      <th>2013-01-06</th>\n",
       "      <td>NaN</td>\n",
       "      <td>0.777257</td>\n",
       "      <td>0.470818</td>\n",
       "      <td>NaN</td>\n",
       "    </tr>\n",
       "  </tbody>\n",
       "</table>\n",
       "</div>"
      ],
      "text/plain": [
       "                   A         B         C         D\n",
       "2013-01-01       NaN  0.592217       NaN  1.342779\n",
       "2013-01-02       NaN  1.123790  0.608508       NaN\n",
       "2013-01-03       NaN       NaN  1.692300       NaN\n",
       "2013-01-04       NaN  1.042969       NaN       NaN\n",
       "2013-01-05  0.060803       NaN  1.111743       NaN\n",
       "2013-01-06       NaN  0.777257  0.470818       NaN"
      ]
     },
     "execution_count": 33,
     "metadata": {},
     "output_type": "execute_result"
    }
   ],
   "source": [
    "# Selecting values from a DataFrame where a boolean condition is met:\n",
    "df[df > 0]"
   ]
  },
  {
   "cell_type": "code",
   "execution_count": 34,
   "id": "f97bfc5c-8fab-4ae9-9257-e4dcf4fb275d",
   "metadata": {},
   "outputs": [],
   "source": [
    "# Using isin() method for filtering:\n",
    "df2 = df.copy()"
   ]
  },
  {
   "cell_type": "code",
   "execution_count": 36,
   "id": "5a0538c7-0407-4e2a-aab6-6f3149851bf6",
   "metadata": {},
   "outputs": [
    {
     "data": {
      "text/html": [
       "<div>\n",
       "<style scoped>\n",
       "    .dataframe tbody tr th:only-of-type {\n",
       "        vertical-align: middle;\n",
       "    }\n",
       "\n",
       "    .dataframe tbody tr th {\n",
       "        vertical-align: top;\n",
       "    }\n",
       "\n",
       "    .dataframe thead th {\n",
       "        text-align: right;\n",
       "    }\n",
       "</style>\n",
       "<table border=\"1\" class=\"dataframe\">\n",
       "  <thead>\n",
       "    <tr style=\"text-align: right;\">\n",
       "      <th></th>\n",
       "      <th>A</th>\n",
       "      <th>B</th>\n",
       "      <th>C</th>\n",
       "      <th>D</th>\n",
       "      <th>E</th>\n",
       "    </tr>\n",
       "  </thead>\n",
       "  <tbody>\n",
       "    <tr>\n",
       "      <th>2013-01-01</th>\n",
       "      <td>-0.564024</td>\n",
       "      <td>0.592217</td>\n",
       "      <td>-0.274493</td>\n",
       "      <td>1.342779</td>\n",
       "      <td>one</td>\n",
       "    </tr>\n",
       "    <tr>\n",
       "      <th>2013-01-02</th>\n",
       "      <td>-1.155801</td>\n",
       "      <td>1.123790</td>\n",
       "      <td>0.608508</td>\n",
       "      <td>-0.623334</td>\n",
       "      <td>one</td>\n",
       "    </tr>\n",
       "    <tr>\n",
       "      <th>2013-01-03</th>\n",
       "      <td>-1.273560</td>\n",
       "      <td>-0.378583</td>\n",
       "      <td>1.692300</td>\n",
       "      <td>-1.163162</td>\n",
       "      <td>two</td>\n",
       "    </tr>\n",
       "    <tr>\n",
       "      <th>2013-01-04</th>\n",
       "      <td>-0.234764</td>\n",
       "      <td>1.042969</td>\n",
       "      <td>-0.159647</td>\n",
       "      <td>-0.438775</td>\n",
       "      <td>three</td>\n",
       "    </tr>\n",
       "    <tr>\n",
       "      <th>2013-01-05</th>\n",
       "      <td>0.060803</td>\n",
       "      <td>-0.207916</td>\n",
       "      <td>1.111743</td>\n",
       "      <td>-0.966972</td>\n",
       "      <td>four</td>\n",
       "    </tr>\n",
       "    <tr>\n",
       "      <th>2013-01-06</th>\n",
       "      <td>-1.008815</td>\n",
       "      <td>0.777257</td>\n",
       "      <td>0.470818</td>\n",
       "      <td>-1.840966</td>\n",
       "      <td>three</td>\n",
       "    </tr>\n",
       "  </tbody>\n",
       "</table>\n",
       "</div>"
      ],
      "text/plain": [
       "                   A         B         C         D      E\n",
       "2013-01-01 -0.564024  0.592217 -0.274493  1.342779    one\n",
       "2013-01-02 -1.155801  1.123790  0.608508 -0.623334    one\n",
       "2013-01-03 -1.273560 -0.378583  1.692300 -1.163162    two\n",
       "2013-01-04 -0.234764  1.042969 -0.159647 -0.438775  three\n",
       "2013-01-05  0.060803 -0.207916  1.111743 -0.966972   four\n",
       "2013-01-06 -1.008815  0.777257  0.470818 -1.840966  three"
      ]
     },
     "execution_count": 36,
     "metadata": {},
     "output_type": "execute_result"
    }
   ],
   "source": [
    "df2[\"E\"] = [\"one\", \"one\", \"two\", \"three\", \"four\", \"three\"]\n",
    "df2"
   ]
  },
  {
   "cell_type": "code",
   "execution_count": 38,
   "id": "6b73322d-25b2-4f0d-a18c-ac1d20685a6a",
   "metadata": {},
   "outputs": [
    {
     "data": {
      "text/html": [
       "<div>\n",
       "<style scoped>\n",
       "    .dataframe tbody tr th:only-of-type {\n",
       "        vertical-align: middle;\n",
       "    }\n",
       "\n",
       "    .dataframe tbody tr th {\n",
       "        vertical-align: top;\n",
       "    }\n",
       "\n",
       "    .dataframe thead th {\n",
       "        text-align: right;\n",
       "    }\n",
       "</style>\n",
       "<table border=\"1\" class=\"dataframe\">\n",
       "  <thead>\n",
       "    <tr style=\"text-align: right;\">\n",
       "      <th></th>\n",
       "      <th>A</th>\n",
       "      <th>B</th>\n",
       "      <th>C</th>\n",
       "      <th>D</th>\n",
       "      <th>E</th>\n",
       "    </tr>\n",
       "  </thead>\n",
       "  <tbody>\n",
       "    <tr>\n",
       "      <th>2013-01-03</th>\n",
       "      <td>-1.273560</td>\n",
       "      <td>-0.378583</td>\n",
       "      <td>1.692300</td>\n",
       "      <td>-1.163162</td>\n",
       "      <td>two</td>\n",
       "    </tr>\n",
       "    <tr>\n",
       "      <th>2013-01-05</th>\n",
       "      <td>0.060803</td>\n",
       "      <td>-0.207916</td>\n",
       "      <td>1.111743</td>\n",
       "      <td>-0.966972</td>\n",
       "      <td>four</td>\n",
       "    </tr>\n",
       "  </tbody>\n",
       "</table>\n",
       "</div>"
      ],
      "text/plain": [
       "                   A         B         C         D     E\n",
       "2013-01-03 -1.273560 -0.378583  1.692300 -1.163162   two\n",
       "2013-01-05  0.060803 -0.207916  1.111743 -0.966972  four"
      ]
     },
     "execution_count": 38,
     "metadata": {},
     "output_type": "execute_result"
    }
   ],
   "source": [
    "df2[df2[\"E\"].isin([\"two\", \"four\"])]"
   ]
  },
  {
   "cell_type": "markdown",
   "id": "a751bd33-b17d-4f10-9e96-17e97dfd987d",
   "metadata": {},
   "source": [
    "## Setting\n",
    "Setting a new column automatically aligns the data by the indexes:"
   ]
  },
  {
   "cell_type": "code",
   "execution_count": 41,
   "id": "3fbc5035-ae0b-43ce-a4e5-0fe84b65344e",
   "metadata": {},
   "outputs": [
    {
     "data": {
      "text/plain": [
       "2013-01-02    1\n",
       "2013-01-03    2\n",
       "2013-01-04    3\n",
       "2013-01-05    4\n",
       "2013-01-06    5\n",
       "2013-01-07    6\n",
       "Freq: D, dtype: int64"
      ]
     },
     "execution_count": 41,
     "metadata": {},
     "output_type": "execute_result"
    }
   ],
   "source": [
    "s1 = pd.Series([1, 2, 3, 4, 5, 6], index=pd.date_range(\"20130102\", periods=6)) \n",
    "s1"
   ]
  },
  {
   "cell_type": "code",
   "execution_count": 42,
   "id": "0f63b5a8-5e4f-4863-90f3-5f69af17274e",
   "metadata": {},
   "outputs": [],
   "source": [
    "df[\"F\"] = s1"
   ]
  },
  {
   "cell_type": "code",
   "execution_count": 45,
   "id": "d43f1646-3f32-4fcb-a393-bd6701f1cb27",
   "metadata": {},
   "outputs": [],
   "source": [
    "# Setting values by label:\n",
    "df.at[dates[0], \"A\"] = 0"
   ]
  },
  {
   "cell_type": "code",
   "execution_count": 46,
   "id": "6b1d9b3b-8cd8-4f56-bce3-edd7a5ee2ee6",
   "metadata": {},
   "outputs": [],
   "source": [
    "# Setting values by position:\n",
    "df.iat[0, 1] = 0 "
   ]
  },
  {
   "cell_type": "code",
   "execution_count": 47,
   "id": "e0c5434e-2490-4fbe-a675-b2fccc9252c2",
   "metadata": {},
   "outputs": [],
   "source": [
    "# Setting by assigning with a NumPy array:\n",
    "df.loc[:, \"D\"] = np.array([5] * len(df))"
   ]
  },
  {
   "cell_type": "code",
   "execution_count": 48,
   "id": "add4d02b-25d1-4715-a045-b853003f2e98",
   "metadata": {},
   "outputs": [
    {
     "data": {
      "text/html": [
       "<div>\n",
       "<style scoped>\n",
       "    .dataframe tbody tr th:only-of-type {\n",
       "        vertical-align: middle;\n",
       "    }\n",
       "\n",
       "    .dataframe tbody tr th {\n",
       "        vertical-align: top;\n",
       "    }\n",
       "\n",
       "    .dataframe thead th {\n",
       "        text-align: right;\n",
       "    }\n",
       "</style>\n",
       "<table border=\"1\" class=\"dataframe\">\n",
       "  <thead>\n",
       "    <tr style=\"text-align: right;\">\n",
       "      <th></th>\n",
       "      <th>A</th>\n",
       "      <th>B</th>\n",
       "      <th>C</th>\n",
       "      <th>D</th>\n",
       "      <th>F</th>\n",
       "    </tr>\n",
       "  </thead>\n",
       "  <tbody>\n",
       "    <tr>\n",
       "      <th>2013-01-01</th>\n",
       "      <td>0.000000</td>\n",
       "      <td>0.000000</td>\n",
       "      <td>-0.274493</td>\n",
       "      <td>5.0</td>\n",
       "      <td>NaN</td>\n",
       "    </tr>\n",
       "    <tr>\n",
       "      <th>2013-01-02</th>\n",
       "      <td>-1.155801</td>\n",
       "      <td>1.123790</td>\n",
       "      <td>0.608508</td>\n",
       "      <td>5.0</td>\n",
       "      <td>1.0</td>\n",
       "    </tr>\n",
       "    <tr>\n",
       "      <th>2013-01-03</th>\n",
       "      <td>-1.273560</td>\n",
       "      <td>-0.378583</td>\n",
       "      <td>1.692300</td>\n",
       "      <td>5.0</td>\n",
       "      <td>2.0</td>\n",
       "    </tr>\n",
       "    <tr>\n",
       "      <th>2013-01-04</th>\n",
       "      <td>-0.234764</td>\n",
       "      <td>1.042969</td>\n",
       "      <td>-0.159647</td>\n",
       "      <td>5.0</td>\n",
       "      <td>3.0</td>\n",
       "    </tr>\n",
       "    <tr>\n",
       "      <th>2013-01-05</th>\n",
       "      <td>0.060803</td>\n",
       "      <td>-0.207916</td>\n",
       "      <td>1.111743</td>\n",
       "      <td>5.0</td>\n",
       "      <td>4.0</td>\n",
       "    </tr>\n",
       "    <tr>\n",
       "      <th>2013-01-06</th>\n",
       "      <td>-1.008815</td>\n",
       "      <td>0.777257</td>\n",
       "      <td>0.470818</td>\n",
       "      <td>5.0</td>\n",
       "      <td>5.0</td>\n",
       "    </tr>\n",
       "  </tbody>\n",
       "</table>\n",
       "</div>"
      ],
      "text/plain": [
       "                   A         B         C    D    F\n",
       "2013-01-01  0.000000  0.000000 -0.274493  5.0  NaN\n",
       "2013-01-02 -1.155801  1.123790  0.608508  5.0  1.0\n",
       "2013-01-03 -1.273560 -0.378583  1.692300  5.0  2.0\n",
       "2013-01-04 -0.234764  1.042969 -0.159647  5.0  3.0\n",
       "2013-01-05  0.060803 -0.207916  1.111743  5.0  4.0\n",
       "2013-01-06 -1.008815  0.777257  0.470818  5.0  5.0"
      ]
     },
     "execution_count": 48,
     "metadata": {},
     "output_type": "execute_result"
    }
   ],
   "source": [
    "# The result of the prior setting operations:\n",
    "df"
   ]
  },
  {
   "cell_type": "code",
   "execution_count": 50,
   "id": "b6b8c32f-4c33-4bc9-ad42-55048d5b0629",
   "metadata": {},
   "outputs": [],
   "source": [
    "# A 'where' operation with setting:\n",
    "df2 = df.copy()"
   ]
  },
  {
   "cell_type": "code",
   "execution_count": 51,
   "id": "c8287671-337b-4d55-b259-6e26d1729f8e",
   "metadata": {},
   "outputs": [],
   "source": [
    "df2[df2 > 0] = -df2"
   ]
  },
  {
   "cell_type": "code",
   "execution_count": 52,
   "id": "01b6f13c-3d33-4447-94d7-41f1a35b8d83",
   "metadata": {},
   "outputs": [
    {
     "data": {
      "text/html": [
       "<div>\n",
       "<style scoped>\n",
       "    .dataframe tbody tr th:only-of-type {\n",
       "        vertical-align: middle;\n",
       "    }\n",
       "\n",
       "    .dataframe tbody tr th {\n",
       "        vertical-align: top;\n",
       "    }\n",
       "\n",
       "    .dataframe thead th {\n",
       "        text-align: right;\n",
       "    }\n",
       "</style>\n",
       "<table border=\"1\" class=\"dataframe\">\n",
       "  <thead>\n",
       "    <tr style=\"text-align: right;\">\n",
       "      <th></th>\n",
       "      <th>A</th>\n",
       "      <th>B</th>\n",
       "      <th>C</th>\n",
       "      <th>D</th>\n",
       "      <th>F</th>\n",
       "    </tr>\n",
       "  </thead>\n",
       "  <tbody>\n",
       "    <tr>\n",
       "      <th>2013-01-01</th>\n",
       "      <td>0.000000</td>\n",
       "      <td>0.000000</td>\n",
       "      <td>-0.274493</td>\n",
       "      <td>-5.0</td>\n",
       "      <td>NaN</td>\n",
       "    </tr>\n",
       "    <tr>\n",
       "      <th>2013-01-02</th>\n",
       "      <td>-1.155801</td>\n",
       "      <td>-1.123790</td>\n",
       "      <td>-0.608508</td>\n",
       "      <td>-5.0</td>\n",
       "      <td>-1.0</td>\n",
       "    </tr>\n",
       "    <tr>\n",
       "      <th>2013-01-03</th>\n",
       "      <td>-1.273560</td>\n",
       "      <td>-0.378583</td>\n",
       "      <td>-1.692300</td>\n",
       "      <td>-5.0</td>\n",
       "      <td>-2.0</td>\n",
       "    </tr>\n",
       "    <tr>\n",
       "      <th>2013-01-04</th>\n",
       "      <td>-0.234764</td>\n",
       "      <td>-1.042969</td>\n",
       "      <td>-0.159647</td>\n",
       "      <td>-5.0</td>\n",
       "      <td>-3.0</td>\n",
       "    </tr>\n",
       "    <tr>\n",
       "      <th>2013-01-05</th>\n",
       "      <td>-0.060803</td>\n",
       "      <td>-0.207916</td>\n",
       "      <td>-1.111743</td>\n",
       "      <td>-5.0</td>\n",
       "      <td>-4.0</td>\n",
       "    </tr>\n",
       "    <tr>\n",
       "      <th>2013-01-06</th>\n",
       "      <td>-1.008815</td>\n",
       "      <td>-0.777257</td>\n",
       "      <td>-0.470818</td>\n",
       "      <td>-5.0</td>\n",
       "      <td>-5.0</td>\n",
       "    </tr>\n",
       "  </tbody>\n",
       "</table>\n",
       "</div>"
      ],
      "text/plain": [
       "                   A         B         C    D    F\n",
       "2013-01-01  0.000000  0.000000 -0.274493 -5.0  NaN\n",
       "2013-01-02 -1.155801 -1.123790 -0.608508 -5.0 -1.0\n",
       "2013-01-03 -1.273560 -0.378583 -1.692300 -5.0 -2.0\n",
       "2013-01-04 -0.234764 -1.042969 -0.159647 -5.0 -3.0\n",
       "2013-01-05 -0.060803 -0.207916 -1.111743 -5.0 -4.0\n",
       "2013-01-06 -1.008815 -0.777257 -0.470818 -5.0 -5.0"
      ]
     },
     "execution_count": 52,
     "metadata": {},
     "output_type": "execute_result"
    }
   ],
   "source": [
    "df2"
   ]
  },
  {
   "cell_type": "markdown",
   "id": "790e8231-685e-483a-a45c-1885f3b79fb7",
   "metadata": {},
   "source": [
    "## Missing data\n",
    "For NumPy data types, np.nan represents missing data. It is by default not included in computations. See the Missing Data section.\n",
    "\n",
    "Reindexing allows you to change/add/delete the index on a specified axis. This returns a copy of the data:"
   ]
  },
  {
   "cell_type": "code",
   "execution_count": 53,
   "id": "c171aba3-9164-475c-86ac-9b34b71ca27c",
   "metadata": {},
   "outputs": [],
   "source": [
    "df1 = df.reindex(index=dates[0:4], columns=list(df.columns) + [\"E\"])"
   ]
  },
  {
   "cell_type": "code",
   "execution_count": 54,
   "id": "e270f0cf-cbd4-47fc-bf9b-1bdfde100bbb",
   "metadata": {},
   "outputs": [
    {
     "data": {
      "text/html": [
       "<div>\n",
       "<style scoped>\n",
       "    .dataframe tbody tr th:only-of-type {\n",
       "        vertical-align: middle;\n",
       "    }\n",
       "\n",
       "    .dataframe tbody tr th {\n",
       "        vertical-align: top;\n",
       "    }\n",
       "\n",
       "    .dataframe thead th {\n",
       "        text-align: right;\n",
       "    }\n",
       "</style>\n",
       "<table border=\"1\" class=\"dataframe\">\n",
       "  <thead>\n",
       "    <tr style=\"text-align: right;\">\n",
       "      <th></th>\n",
       "      <th>A</th>\n",
       "      <th>B</th>\n",
       "      <th>C</th>\n",
       "      <th>D</th>\n",
       "      <th>F</th>\n",
       "      <th>E</th>\n",
       "    </tr>\n",
       "  </thead>\n",
       "  <tbody>\n",
       "    <tr>\n",
       "      <th>2013-01-01</th>\n",
       "      <td>0.000000</td>\n",
       "      <td>0.000000</td>\n",
       "      <td>-0.274493</td>\n",
       "      <td>5.0</td>\n",
       "      <td>NaN</td>\n",
       "      <td>1.0</td>\n",
       "    </tr>\n",
       "    <tr>\n",
       "      <th>2013-01-02</th>\n",
       "      <td>-1.155801</td>\n",
       "      <td>1.123790</td>\n",
       "      <td>0.608508</td>\n",
       "      <td>5.0</td>\n",
       "      <td>1.0</td>\n",
       "      <td>1.0</td>\n",
       "    </tr>\n",
       "    <tr>\n",
       "      <th>2013-01-03</th>\n",
       "      <td>-1.273560</td>\n",
       "      <td>-0.378583</td>\n",
       "      <td>1.692300</td>\n",
       "      <td>5.0</td>\n",
       "      <td>2.0</td>\n",
       "      <td>NaN</td>\n",
       "    </tr>\n",
       "    <tr>\n",
       "      <th>2013-01-04</th>\n",
       "      <td>-0.234764</td>\n",
       "      <td>1.042969</td>\n",
       "      <td>-0.159647</td>\n",
       "      <td>5.0</td>\n",
       "      <td>3.0</td>\n",
       "      <td>NaN</td>\n",
       "    </tr>\n",
       "  </tbody>\n",
       "</table>\n",
       "</div>"
      ],
      "text/plain": [
       "                   A         B         C    D    F    E\n",
       "2013-01-01  0.000000  0.000000 -0.274493  5.0  NaN  1.0\n",
       "2013-01-02 -1.155801  1.123790  0.608508  5.0  1.0  1.0\n",
       "2013-01-03 -1.273560 -0.378583  1.692300  5.0  2.0  NaN\n",
       "2013-01-04 -0.234764  1.042969 -0.159647  5.0  3.0  NaN"
      ]
     },
     "execution_count": 54,
     "metadata": {},
     "output_type": "execute_result"
    }
   ],
   "source": [
    "df1.loc[dates[0] : dates[1], \"E\"] = 1\n",
    "df1"
   ]
  },
  {
   "cell_type": "code",
   "execution_count": 55,
   "id": "19914507-77aa-49a8-8a02-da6349b08d79",
   "metadata": {},
   "outputs": [
    {
     "data": {
      "text/html": [
       "<div>\n",
       "<style scoped>\n",
       "    .dataframe tbody tr th:only-of-type {\n",
       "        vertical-align: middle;\n",
       "    }\n",
       "\n",
       "    .dataframe tbody tr th {\n",
       "        vertical-align: top;\n",
       "    }\n",
       "\n",
       "    .dataframe thead th {\n",
       "        text-align: right;\n",
       "    }\n",
       "</style>\n",
       "<table border=\"1\" class=\"dataframe\">\n",
       "  <thead>\n",
       "    <tr style=\"text-align: right;\">\n",
       "      <th></th>\n",
       "      <th>A</th>\n",
       "      <th>B</th>\n",
       "      <th>C</th>\n",
       "      <th>D</th>\n",
       "      <th>F</th>\n",
       "      <th>E</th>\n",
       "    </tr>\n",
       "  </thead>\n",
       "  <tbody>\n",
       "    <tr>\n",
       "      <th>2013-01-02</th>\n",
       "      <td>-1.155801</td>\n",
       "      <td>1.12379</td>\n",
       "      <td>0.608508</td>\n",
       "      <td>5.0</td>\n",
       "      <td>1.0</td>\n",
       "      <td>1.0</td>\n",
       "    </tr>\n",
       "  </tbody>\n",
       "</table>\n",
       "</div>"
      ],
      "text/plain": [
       "                   A        B         C    D    F    E\n",
       "2013-01-02 -1.155801  1.12379  0.608508  5.0  1.0  1.0"
      ]
     },
     "execution_count": 55,
     "metadata": {},
     "output_type": "execute_result"
    }
   ],
   "source": [
    "# DataFrame.dropna() drops any rows that have missing data:\n",
    "df1.dropna(how=\"any\")"
   ]
  },
  {
   "cell_type": "code",
   "execution_count": 56,
   "id": "fbecd8eb-ac4b-48fe-891e-22a9f233bda0",
   "metadata": {},
   "outputs": [
    {
     "data": {
      "text/html": [
       "<div>\n",
       "<style scoped>\n",
       "    .dataframe tbody tr th:only-of-type {\n",
       "        vertical-align: middle;\n",
       "    }\n",
       "\n",
       "    .dataframe tbody tr th {\n",
       "        vertical-align: top;\n",
       "    }\n",
       "\n",
       "    .dataframe thead th {\n",
       "        text-align: right;\n",
       "    }\n",
       "</style>\n",
       "<table border=\"1\" class=\"dataframe\">\n",
       "  <thead>\n",
       "    <tr style=\"text-align: right;\">\n",
       "      <th></th>\n",
       "      <th>A</th>\n",
       "      <th>B</th>\n",
       "      <th>C</th>\n",
       "      <th>D</th>\n",
       "      <th>F</th>\n",
       "      <th>E</th>\n",
       "    </tr>\n",
       "  </thead>\n",
       "  <tbody>\n",
       "    <tr>\n",
       "      <th>2013-01-01</th>\n",
       "      <td>0.000000</td>\n",
       "      <td>0.000000</td>\n",
       "      <td>-0.274493</td>\n",
       "      <td>5.0</td>\n",
       "      <td>5.0</td>\n",
       "      <td>1.0</td>\n",
       "    </tr>\n",
       "    <tr>\n",
       "      <th>2013-01-02</th>\n",
       "      <td>-1.155801</td>\n",
       "      <td>1.123790</td>\n",
       "      <td>0.608508</td>\n",
       "      <td>5.0</td>\n",
       "      <td>1.0</td>\n",
       "      <td>1.0</td>\n",
       "    </tr>\n",
       "    <tr>\n",
       "      <th>2013-01-03</th>\n",
       "      <td>-1.273560</td>\n",
       "      <td>-0.378583</td>\n",
       "      <td>1.692300</td>\n",
       "      <td>5.0</td>\n",
       "      <td>2.0</td>\n",
       "      <td>5.0</td>\n",
       "    </tr>\n",
       "    <tr>\n",
       "      <th>2013-01-04</th>\n",
       "      <td>-0.234764</td>\n",
       "      <td>1.042969</td>\n",
       "      <td>-0.159647</td>\n",
       "      <td>5.0</td>\n",
       "      <td>3.0</td>\n",
       "      <td>5.0</td>\n",
       "    </tr>\n",
       "  </tbody>\n",
       "</table>\n",
       "</div>"
      ],
      "text/plain": [
       "                   A         B         C    D    F    E\n",
       "2013-01-01  0.000000  0.000000 -0.274493  5.0  5.0  1.0\n",
       "2013-01-02 -1.155801  1.123790  0.608508  5.0  1.0  1.0\n",
       "2013-01-03 -1.273560 -0.378583  1.692300  5.0  2.0  5.0\n",
       "2013-01-04 -0.234764  1.042969 -0.159647  5.0  3.0  5.0"
      ]
     },
     "execution_count": 56,
     "metadata": {},
     "output_type": "execute_result"
    }
   ],
   "source": [
    "# DataFrame.fillna() fills missing data: \n",
    "df1.fillna(value=5)"
   ]
  },
  {
   "cell_type": "code",
   "execution_count": 57,
   "id": "784f97b2-b46a-4384-88d2-2ee517a8b9bf",
   "metadata": {},
   "outputs": [
    {
     "data": {
      "text/html": [
       "<div>\n",
       "<style scoped>\n",
       "    .dataframe tbody tr th:only-of-type {\n",
       "        vertical-align: middle;\n",
       "    }\n",
       "\n",
       "    .dataframe tbody tr th {\n",
       "        vertical-align: top;\n",
       "    }\n",
       "\n",
       "    .dataframe thead th {\n",
       "        text-align: right;\n",
       "    }\n",
       "</style>\n",
       "<table border=\"1\" class=\"dataframe\">\n",
       "  <thead>\n",
       "    <tr style=\"text-align: right;\">\n",
       "      <th></th>\n",
       "      <th>A</th>\n",
       "      <th>B</th>\n",
       "      <th>C</th>\n",
       "      <th>D</th>\n",
       "      <th>F</th>\n",
       "      <th>E</th>\n",
       "    </tr>\n",
       "  </thead>\n",
       "  <tbody>\n",
       "    <tr>\n",
       "      <th>2013-01-01</th>\n",
       "      <td>False</td>\n",
       "      <td>False</td>\n",
       "      <td>False</td>\n",
       "      <td>False</td>\n",
       "      <td>True</td>\n",
       "      <td>False</td>\n",
       "    </tr>\n",
       "    <tr>\n",
       "      <th>2013-01-02</th>\n",
       "      <td>False</td>\n",
       "      <td>False</td>\n",
       "      <td>False</td>\n",
       "      <td>False</td>\n",
       "      <td>False</td>\n",
       "      <td>False</td>\n",
       "    </tr>\n",
       "    <tr>\n",
       "      <th>2013-01-03</th>\n",
       "      <td>False</td>\n",
       "      <td>False</td>\n",
       "      <td>False</td>\n",
       "      <td>False</td>\n",
       "      <td>False</td>\n",
       "      <td>True</td>\n",
       "    </tr>\n",
       "    <tr>\n",
       "      <th>2013-01-04</th>\n",
       "      <td>False</td>\n",
       "      <td>False</td>\n",
       "      <td>False</td>\n",
       "      <td>False</td>\n",
       "      <td>False</td>\n",
       "      <td>True</td>\n",
       "    </tr>\n",
       "  </tbody>\n",
       "</table>\n",
       "</div>"
      ],
      "text/plain": [
       "                A      B      C      D      F      E\n",
       "2013-01-01  False  False  False  False   True  False\n",
       "2013-01-02  False  False  False  False  False  False\n",
       "2013-01-03  False  False  False  False  False   True\n",
       "2013-01-04  False  False  False  False  False   True"
      ]
     },
     "execution_count": 57,
     "metadata": {},
     "output_type": "execute_result"
    }
   ],
   "source": [
    "# isna() gets the boolean mask where values are nan:\n",
    "pd.isna(df1)"
   ]
  },
  {
   "cell_type": "markdown",
   "id": "261b376b-da28-404f-bffd-061f8e0ef3bd",
   "metadata": {},
   "source": [
    "## Operations\n",
    "See the Basic section on Binary Ops.\n",
    "\n",
    "Stats\n",
    "Operations in general exclude missing data.\n",
    "\n",
    "Calculate the mean value for each column:"
   ]
  },
  {
   "cell_type": "code",
   "execution_count": 58,
   "id": "1b1ad75c-6218-4fc5-8e53-880f0c2a979e",
   "metadata": {},
   "outputs": [
    {
     "data": {
      "text/plain": [
       "A   -0.602023\n",
       "B    0.392920\n",
       "C    0.574871\n",
       "D    5.000000\n",
       "F    3.000000\n",
       "dtype: float64"
      ]
     },
     "execution_count": 58,
     "metadata": {},
     "output_type": "execute_result"
    }
   ],
   "source": [
    "df.mean()"
   ]
  },
  {
   "cell_type": "code",
   "execution_count": 59,
   "id": "728316e5-f0f8-4427-a603-be73e8b88317",
   "metadata": {},
   "outputs": [
    {
     "data": {
      "text/plain": [
       "2013-01-01    1.181377\n",
       "2013-01-02    1.315299\n",
       "2013-01-03    1.408032\n",
       "2013-01-04    1.729712\n",
       "2013-01-05    1.992926\n",
       "2013-01-06    2.047852\n",
       "Freq: D, dtype: float64"
      ]
     },
     "execution_count": 59,
     "metadata": {},
     "output_type": "execute_result"
    }
   ],
   "source": [
    "# Calculate the mean value for each row:\n",
    "df.mean(axis=1)"
   ]
  },
  {
   "cell_type": "markdown",
   "id": "7da351b6-edd8-4861-99e7-6a25c4234c28",
   "metadata": {},
   "source": [
    "Operating with another Series or DataFrame with a different index or column will align the result with the union of the index or column labels. In addition, pandas automatically broadcasts along the specified dimension and will fill unaligned labels with np.nan."
   ]
  },
  {
   "cell_type": "code",
   "execution_count": 62,
   "id": "3186d527-a4f1-4aee-bd5c-773087acc1b9",
   "metadata": {},
   "outputs": [
    {
     "data": {
      "text/plain": [
       "2013-01-01    NaN\n",
       "2013-01-02    NaN\n",
       "2013-01-03    1.0\n",
       "2013-01-04    3.0\n",
       "2013-01-05    5.0\n",
       "2013-01-06    NaN\n",
       "Freq: D, dtype: float64"
      ]
     },
     "execution_count": 62,
     "metadata": {},
     "output_type": "execute_result"
    }
   ],
   "source": [
    "s = pd.Series([1, 3, 5, np.nan, 6, 8], index=dates).shift(2)\n",
    "s"
   ]
  },
  {
   "cell_type": "code",
   "execution_count": 63,
   "id": "71cbfa76-e86c-40b6-9682-d5bcd99db1b0",
   "metadata": {},
   "outputs": [
    {
     "data": {
      "text/html": [
       "<div>\n",
       "<style scoped>\n",
       "    .dataframe tbody tr th:only-of-type {\n",
       "        vertical-align: middle;\n",
       "    }\n",
       "\n",
       "    .dataframe tbody tr th {\n",
       "        vertical-align: top;\n",
       "    }\n",
       "\n",
       "    .dataframe thead th {\n",
       "        text-align: right;\n",
       "    }\n",
       "</style>\n",
       "<table border=\"1\" class=\"dataframe\">\n",
       "  <thead>\n",
       "    <tr style=\"text-align: right;\">\n",
       "      <th></th>\n",
       "      <th>A</th>\n",
       "      <th>B</th>\n",
       "      <th>C</th>\n",
       "      <th>D</th>\n",
       "      <th>F</th>\n",
       "    </tr>\n",
       "  </thead>\n",
       "  <tbody>\n",
       "    <tr>\n",
       "      <th>2013-01-01</th>\n",
       "      <td>NaN</td>\n",
       "      <td>NaN</td>\n",
       "      <td>NaN</td>\n",
       "      <td>NaN</td>\n",
       "      <td>NaN</td>\n",
       "    </tr>\n",
       "    <tr>\n",
       "      <th>2013-01-02</th>\n",
       "      <td>NaN</td>\n",
       "      <td>NaN</td>\n",
       "      <td>NaN</td>\n",
       "      <td>NaN</td>\n",
       "      <td>NaN</td>\n",
       "    </tr>\n",
       "    <tr>\n",
       "      <th>2013-01-03</th>\n",
       "      <td>-2.273560</td>\n",
       "      <td>-1.378583</td>\n",
       "      <td>0.692300</td>\n",
       "      <td>4.0</td>\n",
       "      <td>1.0</td>\n",
       "    </tr>\n",
       "    <tr>\n",
       "      <th>2013-01-04</th>\n",
       "      <td>-3.234764</td>\n",
       "      <td>-1.957031</td>\n",
       "      <td>-3.159647</td>\n",
       "      <td>2.0</td>\n",
       "      <td>0.0</td>\n",
       "    </tr>\n",
       "    <tr>\n",
       "      <th>2013-01-05</th>\n",
       "      <td>-4.939197</td>\n",
       "      <td>-5.207916</td>\n",
       "      <td>-3.888257</td>\n",
       "      <td>0.0</td>\n",
       "      <td>-1.0</td>\n",
       "    </tr>\n",
       "    <tr>\n",
       "      <th>2013-01-06</th>\n",
       "      <td>NaN</td>\n",
       "      <td>NaN</td>\n",
       "      <td>NaN</td>\n",
       "      <td>NaN</td>\n",
       "      <td>NaN</td>\n",
       "    </tr>\n",
       "  </tbody>\n",
       "</table>\n",
       "</div>"
      ],
      "text/plain": [
       "                   A         B         C    D    F\n",
       "2013-01-01       NaN       NaN       NaN  NaN  NaN\n",
       "2013-01-02       NaN       NaN       NaN  NaN  NaN\n",
       "2013-01-03 -2.273560 -1.378583  0.692300  4.0  1.0\n",
       "2013-01-04 -3.234764 -1.957031 -3.159647  2.0  0.0\n",
       "2013-01-05 -4.939197 -5.207916 -3.888257  0.0 -1.0\n",
       "2013-01-06       NaN       NaN       NaN  NaN  NaN"
      ]
     },
     "execution_count": 63,
     "metadata": {},
     "output_type": "execute_result"
    }
   ],
   "source": [
    "df.sub(s, axis=\"index\")"
   ]
  },
  {
   "cell_type": "markdown",
   "id": "c89f2eef-83ce-4876-b044-ee2d18453915",
   "metadata": {},
   "source": [
    "## User defined functions\n",
    "DataFrame.agg() and DataFrame.transform() applies a user defined function that reduces or broadcasts its result respectively."
   ]
  },
  {
   "cell_type": "code",
   "execution_count": 65,
   "id": "b0be2aaf-13d3-4f1c-94e5-18e654980957",
   "metadata": {},
   "outputs": [
    {
     "data": {
      "text/plain": [
       "A    -3.371327\n",
       "B     2.200350\n",
       "C     3.219280\n",
       "D    28.000000\n",
       "F    16.800000\n",
       "dtype: float64"
      ]
     },
     "execution_count": 65,
     "metadata": {},
     "output_type": "execute_result"
    }
   ],
   "source": [
    "df.agg(lambda x: np.mean(x) * 5.6)"
   ]
  },
  {
   "cell_type": "code",
   "execution_count": 66,
   "id": "f41d3f26-462c-4f05-b374-c14218abab71",
   "metadata": {},
   "outputs": [
    {
     "data": {
      "text/html": [
       "<div>\n",
       "<style scoped>\n",
       "    .dataframe tbody tr th:only-of-type {\n",
       "        vertical-align: middle;\n",
       "    }\n",
       "\n",
       "    .dataframe tbody tr th {\n",
       "        vertical-align: top;\n",
       "    }\n",
       "\n",
       "    .dataframe thead th {\n",
       "        text-align: right;\n",
       "    }\n",
       "</style>\n",
       "<table border=\"1\" class=\"dataframe\">\n",
       "  <thead>\n",
       "    <tr style=\"text-align: right;\">\n",
       "      <th></th>\n",
       "      <th>A</th>\n",
       "      <th>B</th>\n",
       "      <th>C</th>\n",
       "      <th>D</th>\n",
       "      <th>F</th>\n",
       "    </tr>\n",
       "  </thead>\n",
       "  <tbody>\n",
       "    <tr>\n",
       "      <th>2013-01-01</th>\n",
       "      <td>0.000000</td>\n",
       "      <td>0.000000</td>\n",
       "      <td>-27.778693</td>\n",
       "      <td>506.0</td>\n",
       "      <td>NaN</td>\n",
       "    </tr>\n",
       "    <tr>\n",
       "      <th>2013-01-02</th>\n",
       "      <td>-116.967040</td>\n",
       "      <td>113.727538</td>\n",
       "      <td>61.581028</td>\n",
       "      <td>506.0</td>\n",
       "      <td>101.2</td>\n",
       "    </tr>\n",
       "    <tr>\n",
       "      <th>2013-01-03</th>\n",
       "      <td>-128.884239</td>\n",
       "      <td>-38.312588</td>\n",
       "      <td>171.260793</td>\n",
       "      <td>506.0</td>\n",
       "      <td>202.4</td>\n",
       "    </tr>\n",
       "    <tr>\n",
       "      <th>2013-01-04</th>\n",
       "      <td>-23.758088</td>\n",
       "      <td>105.548470</td>\n",
       "      <td>-16.156327</td>\n",
       "      <td>506.0</td>\n",
       "      <td>303.6</td>\n",
       "    </tr>\n",
       "    <tr>\n",
       "      <th>2013-01-05</th>\n",
       "      <td>6.153247</td>\n",
       "      <td>-21.041057</td>\n",
       "      <td>112.508372</td>\n",
       "      <td>506.0</td>\n",
       "      <td>404.8</td>\n",
       "    </tr>\n",
       "    <tr>\n",
       "      <th>2013-01-06</th>\n",
       "      <td>-102.092048</td>\n",
       "      <td>78.658400</td>\n",
       "      <td>47.646734</td>\n",
       "      <td>506.0</td>\n",
       "      <td>506.0</td>\n",
       "    </tr>\n",
       "  </tbody>\n",
       "</table>\n",
       "</div>"
      ],
      "text/plain": [
       "                     A           B           C      D      F\n",
       "2013-01-01    0.000000    0.000000  -27.778693  506.0    NaN\n",
       "2013-01-02 -116.967040  113.727538   61.581028  506.0  101.2\n",
       "2013-01-03 -128.884239  -38.312588  171.260793  506.0  202.4\n",
       "2013-01-04  -23.758088  105.548470  -16.156327  506.0  303.6\n",
       "2013-01-05    6.153247  -21.041057  112.508372  506.0  404.8\n",
       "2013-01-06 -102.092048   78.658400   47.646734  506.0  506.0"
      ]
     },
     "execution_count": 66,
     "metadata": {},
     "output_type": "execute_result"
    }
   ],
   "source": [
    "df.transform(lambda x: x * 101.2)"
   ]
  },
  {
   "cell_type": "markdown",
   "id": "598a9496-36de-4428-b521-577e51c668c0",
   "metadata": {},
   "source": [
    "## Value Counts\n",
    "See more at Histogramming and Discretization."
   ]
  },
  {
   "cell_type": "code",
   "execution_count": 67,
   "id": "1f152471-8b81-4566-901e-86c7f6748f74",
   "metadata": {},
   "outputs": [
    {
     "data": {
      "text/plain": [
       "0    2\n",
       "1    1\n",
       "2    5\n",
       "3    3\n",
       "4    5\n",
       "5    5\n",
       "6    4\n",
       "7    4\n",
       "8    3\n",
       "9    3\n",
       "dtype: int32"
      ]
     },
     "execution_count": 67,
     "metadata": {},
     "output_type": "execute_result"
    }
   ],
   "source": [
    "s = pd.Series(np.random.randint(0, 7, size=10))\n",
    "s"
   ]
  },
  {
   "cell_type": "code",
   "execution_count": 68,
   "id": "578c8ce5-0441-4396-8fcb-d1a6aa99d60a",
   "metadata": {},
   "outputs": [
    {
     "data": {
      "text/plain": [
       "5    3\n",
       "3    3\n",
       "4    2\n",
       "2    1\n",
       "1    1\n",
       "Name: count, dtype: int64"
      ]
     },
     "execution_count": 68,
     "metadata": {},
     "output_type": "execute_result"
    }
   ],
   "source": [
    "s.value_counts()"
   ]
  },
  {
   "cell_type": "markdown",
   "id": "2e6e8c6f-9f9b-490f-b01b-b0a635519889",
   "metadata": {},
   "source": [
    "## String Methods\n",
    "Series is equipped with a set of string processing methods in the str attribute that make it easy to operate on each element of the array, as in the code snippet below. See more at Vectorized String Methods."
   ]
  },
  {
   "cell_type": "code",
   "execution_count": 69,
   "id": "e0218aac-31f2-4974-9874-def3ca0ab9b7",
   "metadata": {},
   "outputs": [],
   "source": [
    "s = pd.Series([\"A\", \"B\", \"C\", \"Aaba\", \"Baca\", np.nan, \"CABA\", \"dog\", \"cat\"])"
   ]
  },
  {
   "cell_type": "code",
   "execution_count": 70,
   "id": "7d3e8d27-390e-4d80-a947-2a333bf0c25b",
   "metadata": {},
   "outputs": [
    {
     "data": {
      "text/plain": [
       "0       a\n",
       "1       b\n",
       "2       c\n",
       "3    aaba\n",
       "4    baca\n",
       "5     NaN\n",
       "6    caba\n",
       "7     dog\n",
       "8     cat\n",
       "dtype: object"
      ]
     },
     "execution_count": 70,
     "metadata": {},
     "output_type": "execute_result"
    }
   ],
   "source": [
    "s.str.lower()"
   ]
  },
  {
   "cell_type": "markdown",
   "id": "6933db1a-f833-458f-8f97-3a4ccad8730b",
   "metadata": {},
   "source": [
    "# Merge\n",
    "### Concat\n",
    "pandas provides various facilities for easily combining together Series and DataFrame objects with various kinds of set logic for the indexes and relational algebra functionality in the case of join / merge-type operations.\n",
    "\n",
    "See the Merging section.\n",
    "\n",
    "Concatenating pandas objects together row-wise with concat():"
   ]
  },
  {
   "cell_type": "code",
   "execution_count": 71,
   "id": "4fdded6e-247f-44cc-924e-f215f4c19ca2",
   "metadata": {},
   "outputs": [
    {
     "data": {
      "text/html": [
       "<div>\n",
       "<style scoped>\n",
       "    .dataframe tbody tr th:only-of-type {\n",
       "        vertical-align: middle;\n",
       "    }\n",
       "\n",
       "    .dataframe tbody tr th {\n",
       "        vertical-align: top;\n",
       "    }\n",
       "\n",
       "    .dataframe thead th {\n",
       "        text-align: right;\n",
       "    }\n",
       "</style>\n",
       "<table border=\"1\" class=\"dataframe\">\n",
       "  <thead>\n",
       "    <tr style=\"text-align: right;\">\n",
       "      <th></th>\n",
       "      <th>0</th>\n",
       "      <th>1</th>\n",
       "      <th>2</th>\n",
       "      <th>3</th>\n",
       "    </tr>\n",
       "  </thead>\n",
       "  <tbody>\n",
       "    <tr>\n",
       "      <th>0</th>\n",
       "      <td>0.603041</td>\n",
       "      <td>-0.767368</td>\n",
       "      <td>0.903100</td>\n",
       "      <td>-0.014471</td>\n",
       "    </tr>\n",
       "    <tr>\n",
       "      <th>1</th>\n",
       "      <td>-1.994398</td>\n",
       "      <td>0.263681</td>\n",
       "      <td>-0.109741</td>\n",
       "      <td>0.270313</td>\n",
       "    </tr>\n",
       "    <tr>\n",
       "      <th>2</th>\n",
       "      <td>1.023035</td>\n",
       "      <td>0.830140</td>\n",
       "      <td>0.370571</td>\n",
       "      <td>0.086388</td>\n",
       "    </tr>\n",
       "    <tr>\n",
       "      <th>3</th>\n",
       "      <td>-1.886176</td>\n",
       "      <td>0.216123</td>\n",
       "      <td>-1.301609</td>\n",
       "      <td>-0.254191</td>\n",
       "    </tr>\n",
       "    <tr>\n",
       "      <th>4</th>\n",
       "      <td>1.151340</td>\n",
       "      <td>0.707072</td>\n",
       "      <td>-0.824122</td>\n",
       "      <td>1.302700</td>\n",
       "    </tr>\n",
       "    <tr>\n",
       "      <th>5</th>\n",
       "      <td>0.062896</td>\n",
       "      <td>-0.496503</td>\n",
       "      <td>0.347349</td>\n",
       "      <td>0.046403</td>\n",
       "    </tr>\n",
       "    <tr>\n",
       "      <th>6</th>\n",
       "      <td>0.900474</td>\n",
       "      <td>1.421335</td>\n",
       "      <td>0.854453</td>\n",
       "      <td>-0.708506</td>\n",
       "    </tr>\n",
       "    <tr>\n",
       "      <th>7</th>\n",
       "      <td>-0.464370</td>\n",
       "      <td>0.092250</td>\n",
       "      <td>-0.881382</td>\n",
       "      <td>-1.071814</td>\n",
       "    </tr>\n",
       "    <tr>\n",
       "      <th>8</th>\n",
       "      <td>-0.991530</td>\n",
       "      <td>-0.125384</td>\n",
       "      <td>0.901953</td>\n",
       "      <td>-1.268564</td>\n",
       "    </tr>\n",
       "    <tr>\n",
       "      <th>9</th>\n",
       "      <td>-0.286462</td>\n",
       "      <td>-0.368881</td>\n",
       "      <td>1.416508</td>\n",
       "      <td>1.060081</td>\n",
       "    </tr>\n",
       "  </tbody>\n",
       "</table>\n",
       "</div>"
      ],
      "text/plain": [
       "          0         1         2         3\n",
       "0  0.603041 -0.767368  0.903100 -0.014471\n",
       "1 -1.994398  0.263681 -0.109741  0.270313\n",
       "2  1.023035  0.830140  0.370571  0.086388\n",
       "3 -1.886176  0.216123 -1.301609 -0.254191\n",
       "4  1.151340  0.707072 -0.824122  1.302700\n",
       "5  0.062896 -0.496503  0.347349  0.046403\n",
       "6  0.900474  1.421335  0.854453 -0.708506\n",
       "7 -0.464370  0.092250 -0.881382 -1.071814\n",
       "8 -0.991530 -0.125384  0.901953 -1.268564\n",
       "9 -0.286462 -0.368881  1.416508  1.060081"
      ]
     },
     "execution_count": 71,
     "metadata": {},
     "output_type": "execute_result"
    }
   ],
   "source": [
    "df = pd.DataFrame(np.random.randn(10, 4))\n",
    "df"
   ]
  },
  {
   "cell_type": "code",
   "execution_count": 76,
   "id": "aa70cf3b-9143-42bf-98f7-bd36a606ec36",
   "metadata": {},
   "outputs": [
    {
     "data": {
      "text/html": [
       "<div>\n",
       "<style scoped>\n",
       "    .dataframe tbody tr th:only-of-type {\n",
       "        vertical-align: middle;\n",
       "    }\n",
       "\n",
       "    .dataframe tbody tr th {\n",
       "        vertical-align: top;\n",
       "    }\n",
       "\n",
       "    .dataframe thead th {\n",
       "        text-align: right;\n",
       "    }\n",
       "</style>\n",
       "<table border=\"1\" class=\"dataframe\">\n",
       "  <thead>\n",
       "    <tr style=\"text-align: right;\">\n",
       "      <th></th>\n",
       "      <th>0</th>\n",
       "      <th>1</th>\n",
       "      <th>2</th>\n",
       "      <th>3</th>\n",
       "    </tr>\n",
       "  </thead>\n",
       "  <tbody>\n",
       "    <tr>\n",
       "      <th>0</th>\n",
       "      <td>0.603041</td>\n",
       "      <td>-0.767368</td>\n",
       "      <td>0.903100</td>\n",
       "      <td>-0.014471</td>\n",
       "    </tr>\n",
       "    <tr>\n",
       "      <th>1</th>\n",
       "      <td>-1.994398</td>\n",
       "      <td>0.263681</td>\n",
       "      <td>-0.109741</td>\n",
       "      <td>0.270313</td>\n",
       "    </tr>\n",
       "    <tr>\n",
       "      <th>2</th>\n",
       "      <td>1.023035</td>\n",
       "      <td>0.830140</td>\n",
       "      <td>0.370571</td>\n",
       "      <td>0.086388</td>\n",
       "    </tr>\n",
       "    <tr>\n",
       "      <th>3</th>\n",
       "      <td>-1.886176</td>\n",
       "      <td>0.216123</td>\n",
       "      <td>-1.301609</td>\n",
       "      <td>-0.254191</td>\n",
       "    </tr>\n",
       "    <tr>\n",
       "      <th>4</th>\n",
       "      <td>1.151340</td>\n",
       "      <td>0.707072</td>\n",
       "      <td>-0.824122</td>\n",
       "      <td>1.302700</td>\n",
       "    </tr>\n",
       "    <tr>\n",
       "      <th>5</th>\n",
       "      <td>0.062896</td>\n",
       "      <td>-0.496503</td>\n",
       "      <td>0.347349</td>\n",
       "      <td>0.046403</td>\n",
       "    </tr>\n",
       "    <tr>\n",
       "      <th>6</th>\n",
       "      <td>0.900474</td>\n",
       "      <td>1.421335</td>\n",
       "      <td>0.854453</td>\n",
       "      <td>-0.708506</td>\n",
       "    </tr>\n",
       "    <tr>\n",
       "      <th>7</th>\n",
       "      <td>-0.464370</td>\n",
       "      <td>0.092250</td>\n",
       "      <td>-0.881382</td>\n",
       "      <td>-1.071814</td>\n",
       "    </tr>\n",
       "    <tr>\n",
       "      <th>8</th>\n",
       "      <td>-0.991530</td>\n",
       "      <td>-0.125384</td>\n",
       "      <td>0.901953</td>\n",
       "      <td>-1.268564</td>\n",
       "    </tr>\n",
       "    <tr>\n",
       "      <th>9</th>\n",
       "      <td>-0.286462</td>\n",
       "      <td>-0.368881</td>\n",
       "      <td>1.416508</td>\n",
       "      <td>1.060081</td>\n",
       "    </tr>\n",
       "  </tbody>\n",
       "</table>\n",
       "</div>"
      ],
      "text/plain": [
       "          0         1         2         3\n",
       "0  0.603041 -0.767368  0.903100 -0.014471\n",
       "1 -1.994398  0.263681 -0.109741  0.270313\n",
       "2  1.023035  0.830140  0.370571  0.086388\n",
       "3 -1.886176  0.216123 -1.301609 -0.254191\n",
       "4  1.151340  0.707072 -0.824122  1.302700\n",
       "5  0.062896 -0.496503  0.347349  0.046403\n",
       "6  0.900474  1.421335  0.854453 -0.708506\n",
       "7 -0.464370  0.092250 -0.881382 -1.071814\n",
       "8 -0.991530 -0.125384  0.901953 -1.268564\n",
       "9 -0.286462 -0.368881  1.416508  1.060081"
      ]
     },
     "execution_count": 76,
     "metadata": {},
     "output_type": "execute_result"
    }
   ],
   "source": [
    "# break it into pieces\n",
    "pieces = [df[:3], df[3:7], df[7:]]\n",
    "\n",
    "pd.concat(pieces)"
   ]
  },
  {
   "cell_type": "markdown",
   "id": "b40c0e92-8e85-4a33-bd17-2f47b2e3abdd",
   "metadata": {},
   "source": [
    "# Note\n",
    "\n",
    "Adding a column to a DataFrame is relatively fast. However, adding a row requires a copy, and may be expensive. We recommend passing a pre-built list of records to the DataFrame constructor instead of building a DataFrame by iteratively appending records to it."
   ]
  },
  {
   "cell_type": "code",
   "execution_count": null,
   "id": "7c745bb6-ba9b-41d6-8e84-2fb875f116fa",
   "metadata": {},
   "outputs": [],
   "source": []
  }
 ],
 "metadata": {
  "kernelspec": {
   "display_name": "Python 3 (ipykernel)",
   "language": "python",
   "name": "python3"
  },
  "language_info": {
   "codemirror_mode": {
    "name": "ipython",
    "version": 3
   },
   "file_extension": ".py",
   "mimetype": "text/x-python",
   "name": "python",
   "nbconvert_exporter": "python",
   "pygments_lexer": "ipython3",
   "version": "3.11.7"
  }
 },
 "nbformat": 4,
 "nbformat_minor": 5
}
